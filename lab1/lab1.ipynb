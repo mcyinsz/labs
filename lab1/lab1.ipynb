{
 "cells": [
  {
   "cell_type": "markdown",
   "id": "fac37d2c-cc4e-409e-9b75-e787530c608b",
   "metadata": {
    "deletable": false,
    "editable": false,
    "nbgrader": {
     "cell_type": "markdown",
     "checksum": "bf572b127f3e8910bfdc7a55242f088b",
     "grade": false,
     "grade_id": "cell-c2d5066b268e9c4c",
     "locked": true,
     "schema_version": 3,
     "solution": false,
     "task": false
    }
   },
   "source": [
    "Before you turn this lab in, make sure everything runs as expected. First, **restart the kernel** (in the menubar, select Kernel$\\rightarrow$Restart) and then **run all cells** (in the menubar, select Cell$\\rightarrow$Run All).\n",
    "\n",
    "Make sure you fill in any place that says `YOUR CODE HERE` or \"YOUR ANSWER HERE\".\n",
    "\n",
    "**Provide your name and any collaborators below:**"
   ]
  },
  {
   "cell_type": "markdown",
   "id": "92ec1905-1a43-469b-aa19-c0858c157e5c",
   "metadata": {
    "deletable": false,
    "nbgrader": {
     "cell_type": "markdown",
     "checksum": "14d52740faa5ccc0b543add03d8ebf6b",
     "grade": true,
     "grade_id": "name-collabs",
     "locked": false,
     "points": 0,
     "schema_version": 3,
     "solution": true,
     "task": false
    },
    "tags": []
   },
   "source": [
    "YOUR ANSWER HERE"
   ]
  },
  {
   "cell_type": "code",
   "execution_count": null,
   "id": "5553a0ff-472b-407f-a388-d1c3ec5738de",
   "metadata": {},
   "outputs": [],
   "source": [
    "//mcyinsz"
   ]
  },
  {
   "cell_type": "markdown",
   "id": "equal-helen",
   "metadata": {
    "cell_style": "center",
    "deletable": false,
    "editable": false,
    "nbgrader": {
     "cell_type": "markdown",
     "checksum": "79a30912cd4b819140cbd9cf68e59940",
     "grade": false,
     "grade_id": "header",
     "locked": true,
     "schema_version": 3,
     "solution": false,
     "task": false
    },
    "slideshow": {
     "slide_type": "slide"
    }
   },
   "source": [
    "# Lab 1 Intro to Scala and Chisel\n",
    "> Labs will be due each week before the homeworks. They are not intended take a significant amount of time but rather to provide examples/practice on specific and isolated features in the language. Labs are autograded so you can get quick feedback.\n",
    "\n",
    "### Import the necessary Chisel dependencies. \n",
    "> There will be a cell like this in every lab. Make sure you run it before proceeding to bring the Chisel Library into the Jupyter Notebook scope!"
   ]
  },
  {
   "cell_type": "code",
   "execution_count": 1,
   "id": "framed-coffee",
   "metadata": {
    "deletable": false,
    "editable": false,
    "nbgrader": {
     "cell_type": "code",
     "checksum": "0ef756ed0d8e363ea2aad61545a33609",
     "grade": false,
     "grade_id": "load-chisel",
     "locked": true,
     "schema_version": 3,
     "solution": false,
     "task": false
    }
   },
   "outputs": [],
   "source": [
    "interp.load.module(os.Path(s\"${System.getProperty(\"user.dir\")}/resource/chisel_deps.sc\"))"
   ]
  },
  {
   "cell_type": "code",
   "execution_count": 4,
   "id": "registered-expression",
   "metadata": {
    "deletable": false,
    "editable": false,
    "nbgrader": {
     "cell_type": "code",
     "checksum": "901d9fdacbe59a9692672c167d68ce88",
     "grade": false,
     "grade_id": "imports",
     "locked": true,
     "schema_version": 3,
     "solution": false,
     "task": false
    }
   },
   "outputs": [
    {
     "data": {
      "text/plain": [
       "\u001b[32mimport \u001b[39m\u001b[36mchisel3._\n",
       "\u001b[39m\n",
       "\u001b[32mimport \u001b[39m\u001b[36mchisel3.util._\n",
       "\u001b[39m\n",
       "\u001b[32mimport \u001b[39m\u001b[36mchiseltest._\n",
       "\u001b[39m\n",
       "\u001b[32mimport \u001b[39m\u001b[36mchiseltest.RawTester.test\u001b[39m"
      ]
     },
     "execution_count": 4,
     "metadata": {},
     "output_type": "execute_result"
    }
   ],
   "source": [
    "import chisel3._\n",
    "import chisel3.util._\n",
    "import chiseltest._\n",
    "import chiseltest.RawTester.test"
   ]
  },
  {
   "cell_type": "markdown",
   "id": "raised-thong",
   "metadata": {
    "deletable": false,
    "editable": false,
    "nbgrader": {
     "cell_type": "markdown",
     "checksum": "63f0ff47a2a529e36411a5419098b23c",
     "grade": false,
     "grade_id": "conditionals-header",
     "locked": true,
     "schema_version": 3,
     "solution": false,
     "task": false
    }
   },
   "source": [
    "## Problem 1 (2 pts) - Scala conditionals\n",
    "> Practice with Scala's if/else. Return `\"heads\"` if `flip` is `true`, else return `\"tails\"`"
   ]
  },
  {
   "cell_type": "code",
   "execution_count": 5,
   "id": "governing-madonna",
   "metadata": {
    "deletable": false,
    "nbgrader": {
     "cell_type": "code",
     "checksum": "7993e440bb620f0243da3ab5e675bf4f",
     "grade": false,
     "grade_id": "ScalaCondPractice",
     "locked": false,
     "schema_version": 3,
     "solution": true,
     "task": false
    }
   },
   "outputs": [
    {
     "data": {
      "text/plain": [
       "defined \u001b[32mfunction\u001b[39m \u001b[36mscalaCondPractice\u001b[39m"
      ]
     },
     "execution_count": 5,
     "metadata": {},
     "output_type": "execute_result"
    }
   ],
   "source": [
    "def scalaCondPractice(flip: Boolean): String = {\n",
    "    // YOUR CODE HERE\n",
    "    if (flip){\n",
    "        \"heads\"\n",
    "    }\n",
    "    else\n",
    "    {\n",
    "        \"tails\"\n",
    "    }\n",
    "    \n",
    "}"
   ]
  },
  {
   "cell_type": "code",
   "execution_count": 6,
   "id": "comparable-elevation",
   "metadata": {
    "deletable": false,
    "editable": false,
    "nbgrader": {
     "cell_type": "code",
     "checksum": "bf8fd19f2730b3d1a319fa0beb453760",
     "grade": true,
     "grade_id": "scp-test",
     "locked": true,
     "points": 2,
     "schema_version": 3,
     "solution": false,
     "task": false
    }
   },
   "outputs": [],
   "source": [
    "assert(scalaCondPractice(true) == \"heads\")\n",
    "assert(scalaCondPractice(false) == \"tails\")"
   ]
  },
  {
   "cell_type": "markdown",
   "id": "restricted-feelings",
   "metadata": {
    "deletable": false,
    "editable": false,
    "nbgrader": {
     "cell_type": "markdown",
     "checksum": "623692627f0d98c8fdd1f6433a428786",
     "grade": false,
     "grade_id": "cell-4310bf1dd699ea36",
     "locked": true,
     "schema_version": 3,
     "solution": false,
     "task": false
    }
   },
   "source": [
    "## Problem 2 (3 pts) - Writing a Chisel Module's IO\n",
    "> Fill in the IO in the module such that it takes two 4-bit `UInt`s as input and returns a 5-bit sum as output. "
   ]
  },
  {
   "cell_type": "code",
   "execution_count": 7,
   "id": "premier-heath",
   "metadata": {
    "deletable": false,
    "nbgrader": {
     "cell_type": "code",
     "checksum": "cd59f254738f810c7618a878a0c23055",
     "grade": false,
     "grade_id": "addTwo",
     "locked": false,
     "schema_version": 3,
     "solution": true,
     "task": false
    }
   },
   "outputs": [
    {
     "data": {
      "text/plain": [
       "defined \u001b[32mclass\u001b[39m \u001b[36mAddTwo\u001b[39m"
      ]
     },
     "execution_count": 7,
     "metadata": {},
     "output_type": "execute_result"
    }
   ],
   "source": [
    "class AddTwo extends Module {\n",
    "    // val io = ???\n",
    "    // YOUR CODE HERE\n",
    "    val io = IO(\n",
    "        new Bundle {\n",
    "            val in1=Input(UInt(4.W)) //指定n.W为位宽\n",
    "            val in2=Input(UInt(4.W))\n",
    "            val out=Output(UInt(5.W))\n",
    "        }\n",
    "    )\n",
    "\n",
    "    \n",
    "    io.out := io.in1 +& io.in2\n",
    "}"
   ]
  },
  {
   "cell_type": "code",
   "execution_count": 8,
   "id": "recent-scoop",
   "metadata": {
    "deletable": false,
    "editable": false,
    "nbgrader": {
     "cell_type": "code",
     "checksum": "5ce741fc555c64f44514597cf51117f0",
     "grade": true,
     "grade_id": "testAddTwo",
     "locked": true,
     "points": 3,
     "schema_version": 3,
     "solution": false,
     "task": false
    }
   },
   "outputs": [
    {
     "data": {
      "text/plain": [
       "defined \u001b[32mfunction\u001b[39m \u001b[36mtestAddTwo\u001b[39m"
      ]
     },
     "execution_count": 8,
     "metadata": {},
     "output_type": "execute_result"
    }
   ],
   "source": [
    "def testAddTwo: Boolean = {\n",
    "    test(new AddTwo) { c =>\n",
    "        for (i <- 0 until 16) {\n",
    "            for (j <- 0 until 16) {\n",
    "                c.io.in1.poke(i.U)\n",
    "                c.io.in2.poke(j.U)\n",
    "                c.io.out.expect((i+j).U)\n",
    "            }\n",
    "        }\n",
    "    }\n",
    "    true\n",
    "}\n",
    "\n",
    "assert(testAddTwo)"
   ]
  },
  {
   "cell_type": "markdown",
   "id": "educated-order",
   "metadata": {
    "deletable": false,
    "editable": false,
    "nbgrader": {
     "cell_type": "markdown",
     "checksum": "a8587563cf1b128f2a83814f3d150eba",
     "grade": false,
     "grade_id": "CombLogic-header",
     "locked": true,
     "schema_version": 3,
     "solution": false,
     "task": false
    }
   },
   "source": [
    "## Problem 3 (3 pts) - Combinational Logic\n",
    "> Assign the boolean expression: `(a AND b) OR (NOT c)` to the module's output. "
   ]
  },
  {
   "cell_type": "code",
   "execution_count": 13,
   "id": "simplified-scanning",
   "metadata": {
    "deletable": false,
    "nbgrader": {
     "cell_type": "code",
     "checksum": "a27cd34c4cd2b84dfd0e48f11bbb3f79",
     "grade": false,
     "grade_id": "CombLogic",
     "locked": false,
     "schema_version": 3,
     "solution": true,
     "task": false
    }
   },
   "outputs": [
    {
     "data": {
      "text/plain": [
       "defined \u001b[32mclass\u001b[39m \u001b[36mCombLogic\u001b[39m"
      ]
     },
     "execution_count": 13,
     "metadata": {},
     "output_type": "execute_result"
    }
   ],
   "source": [
    "class CombLogic extends Module {\n",
    "    val io = IO(new Bundle {\n",
    "        val a   = Input(Bool())\n",
    "        val b   = Input(Bool())\n",
    "        val c   = Input(Bool())\n",
    "        val out = Output(Bool())\n",
    "    })\n",
    "    \n",
    "    // YOUR CODE HERE\n",
    "    io.out := (io.a && io.b)||(!io.c)\n",
    "    \n",
    "    // We can print state like this everytime `step()` is called in our test\n",
    "    printf(p\"a: ${io.a}, b: ${io.b}, c: ${io.c}, out: ${io.out}\\n\")\n",
    "}"
   ]
  },
  {
   "cell_type": "code",
   "execution_count": 15,
   "id": "fa4607ae",
   "metadata": {},
   "outputs": [
    {
     "data": {
      "text/html": [
       "<div width=\"100%\" height=\"100%\" overflow=\"scroll\"><?xml version=\"1.0\" encoding=\"UTF-8\" standalone=\"no\"?>\n",
       "<?xml-stylesheet href=\"styles.css\" type=\"text/css\"?>\n",
       "<!DOCTYPE svg PUBLIC \"-//W3C//DTD SVG 1.1//EN\"\n",
       " \"http://www.w3.org/Graphics/SVG/1.1/DTD/svg11.dtd\">\n",
       "<!-- Generated by graphviz version 2.43.0 (0)\n",
       " -->\n",
       "<!-- Title: CombLogic Pages: 1 -->\n",
       "<svg width=\"600pt\" height=\"315pt\"\n",
       " viewBox=\"0.00 0.00 600.00 315.00\" xmlns=\"http://www.w3.org/2000/svg\" xmlns:xlink=\"http://www.w3.org/1999/xlink\">\n",
       "<g id=\"graph0\" class=\"graph\" transform=\"scale(1 1) rotate(0) translate(4 311)\">\n",
       "<title>CombLogic</title>\n",
       "<polygon fill=\"white\" stroke=\"transparent\" points=\"-4,4 -4,-311 596,-311 596,4 -4,4\"/>\n",
       "<g id=\"clust1\" class=\"cluster\">\n",
       "<title>cluster_CombLogic</title>\n",
       "<polygon fill=\"#fff8dc\" stroke=\"black\" points=\"8,-8 8,-299 584,-299 584,-8 8,-8\"/>\n",
       "<text text-anchor=\"middle\" x=\"296\" y=\"-283.8\" font-family=\"Times,serif\" font-size=\"14.00\">CombLogic</text>\n",
       "</g>\n",
       "<!-- cluster_CombLogic_clock -->\n",
       "<g id=\"node1\" class=\"node\">\n",
       "<title>cluster_CombLogic_clock</title>\n",
       "<polygon fill=\"#cccccc\" stroke=\"black\" points=\"70,-268 16,-268 16,-232 70,-232 70,-268\"/>\n",
       "<text text-anchor=\"middle\" x=\"43\" y=\"-246.3\" font-family=\"Times,serif\" font-size=\"14.00\">clock</text>\n",
       "</g>\n",
       "<!-- cluster_CombLogic_reset -->\n",
       "<g id=\"node2\" class=\"node\">\n",
       "<title>cluster_CombLogic_reset</title>\n",
       "<polygon fill=\"#cccccc\" stroke=\"black\" points=\"70,-214 16,-214 16,-178 70,-178 70,-214\"/>\n",
       "<text text-anchor=\"middle\" x=\"43\" y=\"-192.3\" font-family=\"Times,serif\" font-size=\"14.00\">reset</text>\n",
       "</g>\n",
       "<!-- cluster_CombLogic_io_a -->\n",
       "<g id=\"node3\" class=\"node\">\n",
       "<title>cluster_CombLogic_io_a</title>\n",
       "<polygon fill=\"#cccccc\" stroke=\"black\" points=\"70,-160 16,-160 16,-124 70,-124 70,-160\"/>\n",
       "<text text-anchor=\"middle\" x=\"43\" y=\"-138.3\" font-family=\"Times,serif\" font-size=\"14.00\">io_a</text>\n",
       "</g>\n",
       "<!-- op_and_1 -->\n",
       "<g id=\"node8\" class=\"node\">\n",
       "<title>op_and_1</title>\n",
       "<polygon fill=\"#d8bfd8\" stroke=\"transparent\" points=\"114,-76 114,-126 206,-126 206,-76 114,-76\"/>\n",
       "<polygon fill=\"none\" stroke=\"black\" points=\"114,-101 114,-126 137,-126 137,-101 114,-101\"/>\n",
       "<text text-anchor=\"start\" x=\"119\" y=\"-109.8\" font-family=\"Times,serif\" font-size=\"14.00\">●</text>\n",
       "<polygon fill=\"none\" stroke=\"black\" points=\"137,-76 137,-126 183,-126 183,-76 137,-76\"/>\n",
       "<text text-anchor=\"start\" x=\"142\" y=\"-97.3\" font-family=\"Times,serif\" font-size=\"14.00\"> and </text>\n",
       "<polygon fill=\"none\" stroke=\"black\" points=\"183,-76 183,-126 206,-126 206,-76 183,-76\"/>\n",
       "<text text-anchor=\"start\" x=\"188\" y=\"-97.3\" font-family=\"Times,serif\" font-size=\"14.00\">●</text>\n",
       "<polygon fill=\"none\" stroke=\"black\" points=\"114,-76 114,-101 137,-101 137,-76 114,-76\"/>\n",
       "<text text-anchor=\"start\" x=\"119\" y=\"-84.8\" font-family=\"Times,serif\" font-size=\"14.00\">●</text>\n",
       "</g>\n",
       "<!-- cluster_CombLogic_io_a&#45;&gt;op_and_1 -->\n",
       "<g id=\"edge4\" class=\"edge\">\n",
       "<title>cluster_CombLogic_io_a&#45;&gt;op_and_1:in1</title>\n",
       "<path fill=\"none\" stroke=\"black\" d=\"M70.21,-125.87C79.87,-121.06 91.29,-116.59 102.85,-114.81\"/>\n",
       "<polygon fill=\"black\" stroke=\"black\" points=\"103.31,-118.29 113,-114 102.75,-111.31 103.31,-118.29\"/>\n",
       "</g>\n",
       "<!-- cluster_CombLogic_io_b -->\n",
       "<g id=\"node4\" class=\"node\">\n",
       "<title>cluster_CombLogic_io_b</title>\n",
       "<polygon fill=\"#cccccc\" stroke=\"black\" points=\"70,-106 16,-106 16,-70 70,-70 70,-106\"/>\n",
       "<text text-anchor=\"middle\" x=\"43\" y=\"-84.3\" font-family=\"Times,serif\" font-size=\"14.00\">io_b</text>\n",
       "</g>\n",
       "<!-- cluster_CombLogic_io_b&#45;&gt;op_and_1 -->\n",
       "<g id=\"edge2\" class=\"edge\">\n",
       "<title>cluster_CombLogic_io_b&#45;&gt;op_and_1:in2</title>\n",
       "<path fill=\"none\" stroke=\"black\" d=\"M70.21,-88C80.08,-88 91.63,-88 102.85,-88\"/>\n",
       "<polygon fill=\"black\" stroke=\"black\" points=\"103,-91.5 113,-88 103,-84.5 103,-91.5\"/>\n",
       "</g>\n",
       "<!-- cluster_CombLogic_io_c -->\n",
       "<g id=\"node5\" class=\"node\">\n",
       "<title>cluster_CombLogic_io_c</title>\n",
       "<polygon fill=\"#cccccc\" stroke=\"black\" points=\"70,-52 16,-52 16,-16 70,-16 70,-52\"/>\n",
       "<text text-anchor=\"middle\" x=\"43\" y=\"-30.3\" font-family=\"Times,serif\" font-size=\"14.00\">io_c</text>\n",
       "</g>\n",
       "<!-- op_not_2 -->\n",
       "<g id=\"node10\" class=\"node\">\n",
       "<title>op_not_2</title>\n",
       "<polygon fill=\"#d8bfd8\" stroke=\"transparent\" points=\"115.5,-22.5 115.5,-47.5 204.5,-47.5 204.5,-22.5 115.5,-22.5\"/>\n",
       "<polygon fill=\"none\" stroke=\"black\" points=\"116,-22 116,-47 139,-47 139,-22 116,-22\"/>\n",
       "<text text-anchor=\"start\" x=\"121\" y=\"-30.8\" font-family=\"Times,serif\" font-size=\"14.00\">●</text>\n",
       "<polygon fill=\"none\" stroke=\"black\" points=\"139,-22 139,-47 182,-47 182,-22 139,-22\"/>\n",
       "<text text-anchor=\"start\" x=\"144\" y=\"-30.8\" font-family=\"Times,serif\" font-size=\"14.00\"> not </text>\n",
       "<polygon fill=\"none\" stroke=\"black\" points=\"182,-22 182,-47 205,-47 205,-22 182,-22\"/>\n",
       "<text text-anchor=\"start\" x=\"187\" y=\"-30.8\" font-family=\"Times,serif\" font-size=\"14.00\">●</text>\n",
       "</g>\n",
       "<!-- cluster_CombLogic_io_c&#45;&gt;op_not_2 -->\n",
       "<g id=\"edge3\" class=\"edge\">\n",
       "<title>cluster_CombLogic_io_c&#45;&gt;op_not_2:in1</title>\n",
       "<path fill=\"none\" stroke=\"black\" d=\"M70.3,-34C80.65,-34 92.88,-34 104.74,-34\"/>\n",
       "<polygon fill=\"black\" stroke=\"black\" points=\"105,-37.5 115,-34 105,-30.5 105,-37.5\"/>\n",
       "</g>\n",
       "<!-- cluster_CombLogic_io_out -->\n",
       "<g id=\"node6\" class=\"node\">\n",
       "<title>cluster_CombLogic_io_out</title>\n",
       "<polygon fill=\"#e0ffff\" stroke=\"black\" points=\"576,-86 517,-86 517,-50 576,-50 576,-86\"/>\n",
       "<text text-anchor=\"middle\" x=\"546.5\" y=\"-64.3\" font-family=\"Times,serif\" font-size=\"14.00\">io_out</text>\n",
       "</g>\n",
       "<!-- cluster_CombLogic__io_out_T -->\n",
       "<g id=\"node7\" class=\"node\">\n",
       "<title>cluster_CombLogic__io_out_T</title>\n",
       "<polygon fill=\"none\" stroke=\"black\" points=\"340,-115 258,-115 258,-79 340,-79 340,-115\"/>\n",
       "<text text-anchor=\"middle\" x=\"299\" y=\"-93.3\" font-family=\"Times,serif\" font-size=\"14.00\">_io_out_T</text>\n",
       "</g>\n",
       "<!-- op_or_3 -->\n",
       "<g id=\"node11\" class=\"node\">\n",
       "<title>op_or_3</title>\n",
       "<polygon fill=\"#d8bfd8\" stroke=\"transparent\" points=\"392,-43 392,-93 473,-93 473,-43 392,-43\"/>\n",
       "<polygon fill=\"none\" stroke=\"black\" points=\"392.5,-68 392.5,-93 415.5,-93 415.5,-68 392.5,-68\"/>\n",
       "<text text-anchor=\"start\" x=\"397.5\" y=\"-76.8\" font-family=\"Times,serif\" font-size=\"14.00\">●</text>\n",
       "<polygon fill=\"none\" stroke=\"black\" points=\"415.5,-43 415.5,-93 450.5,-93 450.5,-43 415.5,-43\"/>\n",
       "<text text-anchor=\"start\" x=\"420.5\" y=\"-64.3\" font-family=\"Times,serif\" font-size=\"14.00\"> or </text>\n",
       "<polygon fill=\"none\" stroke=\"black\" points=\"450.5,-43 450.5,-93 473.5,-93 473.5,-43 450.5,-43\"/>\n",
       "<text text-anchor=\"start\" x=\"455.5\" y=\"-64.3\" font-family=\"Times,serif\" font-size=\"14.00\">●</text>\n",
       "<polygon fill=\"none\" stroke=\"black\" points=\"392.5,-43 392.5,-68 415.5,-68 415.5,-43 392.5,-43\"/>\n",
       "<text text-anchor=\"start\" x=\"397.5\" y=\"-51.8\" font-family=\"Times,serif\" font-size=\"14.00\">●</text>\n",
       "</g>\n",
       "<!-- cluster_CombLogic__io_out_T&#45;&gt;op_or_3 -->\n",
       "<g id=\"edge6\" class=\"edge\">\n",
       "<title>cluster_CombLogic__io_out_T&#45;&gt;op_or_3:in1</title>\n",
       "<path fill=\"none\" stroke=\"black\" d=\"M340.27,-86.87C353.03,-84.31 367.46,-82.07 381.44,-81.29\"/>\n",
       "<polygon fill=\"black\" stroke=\"black\" points=\"381.61,-84.79 391.5,-81 381.4,-77.79 381.61,-84.79\"/>\n",
       "</g>\n",
       "<!-- op_and_1&#45;&gt;cluster_CombLogic__io_out_T -->\n",
       "<g id=\"edge1\" class=\"edge\">\n",
       "<title>op_and_1:out&#45;&gt;cluster_CombLogic__io_out_T</title>\n",
       "<path fill=\"none\" stroke=\"black\" d=\"M207,-101C220.1,-101 234.25,-100.58 247.41,-100.01\"/>\n",
       "<polygon fill=\"black\" stroke=\"black\" points=\"247.87,-103.5 257.7,-99.53 247.55,-96.5 247.87,-103.5\"/>\n",
       "</g>\n",
       "<!-- cluster_CombLogic__io_out_T_1 -->\n",
       "<g id=\"node9\" class=\"node\">\n",
       "<title>cluster_CombLogic__io_out_T_1</title>\n",
       "<polygon fill=\"none\" stroke=\"black\" points=\"348,-58 250,-58 250,-22 348,-22 348,-58\"/>\n",
       "<text text-anchor=\"middle\" x=\"299\" y=\"-36.3\" font-family=\"Times,serif\" font-size=\"14.00\">_io_out_T_1</text>\n",
       "</g>\n",
       "<!-- cluster_CombLogic__io_out_T_1&#45;&gt;op_or_3 -->\n",
       "<g id=\"edge7\" class=\"edge\">\n",
       "<title>cluster_CombLogic__io_out_T_1&#45;&gt;op_or_3:in2</title>\n",
       "<path fill=\"none\" stroke=\"black\" d=\"M348.2,-50.9C358.84,-52.68 370.26,-54.14 381.39,-54.72\"/>\n",
       "<polygon fill=\"black\" stroke=\"black\" points=\"381.41,-58.23 391.5,-55 381.6,-51.23 381.41,-58.23\"/>\n",
       "</g>\n",
       "<!-- op_not_2&#45;&gt;cluster_CombLogic__io_out_T_1 -->\n",
       "<g id=\"edge8\" class=\"edge\">\n",
       "<title>op_not_2:out&#45;&gt;cluster_CombLogic__io_out_T_1</title>\n",
       "<path fill=\"none\" stroke=\"black\" d=\"M206,-34C216.91,-34 228.53,-34.43 239.7,-35.05\"/>\n",
       "<polygon fill=\"black\" stroke=\"black\" points=\"239.62,-38.55 249.81,-35.67 240.05,-31.56 239.62,-38.55\"/>\n",
       "</g>\n",
       "<!-- op_or_3&#45;&gt;cluster_CombLogic_io_out -->\n",
       "<g id=\"edge5\" class=\"edge\">\n",
       "<title>op_or_3:out&#45;&gt;cluster_CombLogic_io_out</title>\n",
       "<path fill=\"none\" stroke=\"black\" d=\"M474.5,-68C484.95,-68 496.26,-68 506.72,-68\"/>\n",
       "<polygon fill=\"black\" stroke=\"black\" points=\"506.83,-71.5 516.83,-68 506.83,-64.5 506.83,-71.5\"/>\n",
       "</g>\n",
       "</g>\n",
       "</svg>\n",
       "</div>"
      ]
     },
     "metadata": {},
     "output_type": "display_data"
    }
   ],
   "source": [
    "visualize(() => new CombLogic)"
   ]
  },
  {
   "cell_type": "markdown",
   "id": "burning-terrorism",
   "metadata": {
    "deletable": false,
    "editable": false,
    "nbgrader": {
     "cell_type": "markdown",
     "checksum": "3b6add7366909048df6b08e432938729",
     "grade": false,
     "grade_id": "testCombLogic-header",
     "locked": true,
     "schema_version": 3,
     "solution": false,
     "task": false
    }
   },
   "source": [
    "## Problem 4 (4 pts) - Combinational Logic Test\n",
    "> Write your own test that tests `CombLogic` exhaustively for all input values `a, b, and c`. The module should return `true` if and only if all calls to `dut.io.out.expect(...)` succeed."
   ]
  },
  {
   "cell_type": "code",
   "execution_count": 21,
   "id": "pacific-standing",
   "metadata": {
    "deletable": false,
    "nbgrader": {
     "cell_type": "code",
     "checksum": "1fc94d98a277009cd779b8741e55f10d",
     "grade": false,
     "grade_id": "testCombLogic",
     "locked": false,
     "schema_version": 3,
     "solution": true,
     "task": false
    }
   },
   "outputs": [
    {
     "data": {
      "text/plain": [
       "defined \u001b[32mfunction\u001b[39m \u001b[36mtestCombLogic\u001b[39m"
      ]
     },
     "execution_count": 21,
     "metadata": {},
     "output_type": "execute_result"
    }
   ],
   "source": [
    "def testCombLogic: Boolean = {\n",
    "    test(new CombLogic) { dut =>\n",
    "        \n",
    "        // YOUR CODE HERE\n",
    "        dut.io.a.poke(1.B)\n",
    "        dut.io.b.poke(1.B)\n",
    "        dut.io.c.poke(1.B)\n",
    "        dut.io.out.expect(1.B)\n",
    "\n",
    "        dut.io.a.poke(0.B)\n",
    "        dut.io.b.poke(1.B)\n",
    "        dut.io.c.poke(1.B)\n",
    "        dut.io.out.expect(0.B)\n",
    "\n",
    "        dut.io.a.poke(0.B)\n",
    "        dut.io.b.poke(0.B)\n",
    "        dut.io.c.poke(1.B)\n",
    "        dut.io.out.expect(0.B)\n",
    "    }\n",
    "    true\n",
    "}"
   ]
  },
  {
   "cell_type": "code",
   "execution_count": 20,
   "id": "severe-collins",
   "metadata": {
    "deletable": false,
    "editable": false,
    "nbgrader": {
     "cell_type": "code",
     "checksum": "9b3abea251458a75ffbd2b0e5a504c3a",
     "grade": true,
     "grade_id": "testCombLogic-test",
     "locked": true,
     "points": 4,
     "schema_version": 3,
     "solution": false,
     "task": false
    }
   },
   "outputs": [],
   "source": [
    "assert(testCombLogic)\n"
   ]
  },
  {
   "cell_type": "markdown",
   "id": "finnish-little",
   "metadata": {
    "deletable": false,
    "editable": false,
    "nbgrader": {
     "cell_type": "markdown",
     "checksum": "bbdc4fd9b18a6b7153e60250acddfc2a",
     "grade": false,
     "grade_id": "scalaCond-header",
     "locked": true,
     "schema_version": 3,
     "solution": false,
     "task": false
    }
   },
   "source": [
    "## Problem 5 (3 pts) - Scala Conditional in Chisel modules\n",
    "> At hardware ellaboration time, we can use Scala conditionals to change which hardware is created within a module. Implement the module such that if the `useAnd` argument is `true`, the generated hardware produces `a && b`, and otherwise produces `a || b`. The generated hardware should contain only `AND` logic or `OR` logic, but not both."
   ]
  },
  {
   "cell_type": "code",
   "execution_count": 23,
   "id": "terminal-cleaners",
   "metadata": {
    "deletable": false,
    "nbgrader": {
     "cell_type": "code",
     "checksum": "8f023de2d1c4e162ab0877cbcc420f16",
     "grade": false,
     "grade_id": "AndOrCompileTime",
     "locked": false,
     "schema_version": 3,
     "solution": true,
     "task": false
    }
   },
   "outputs": [
    {
     "data": {
      "text/plain": [
       "defined \u001b[32mclass\u001b[39m \u001b[36mAndOrGenerationTime\u001b[39m"
      ]
     },
     "execution_count": 23,
     "metadata": {},
     "output_type": "execute_result"
    }
   ],
   "source": [
    "class AndOrGenerationTime(useAnd: Boolean) extends Module {\n",
    "    val io = IO(new Bundle {\n",
    "        val a   = Input(Bool())\n",
    "        val b   = Input(Bool())\n",
    "        val out = Output(Bool())\n",
    "    })\n",
    "    \n",
    "    // YOUR CODE HERE\n",
    "    if (useAnd){\n",
    "        io.out:=io.a&&io.b\n",
    "    }\n",
    "    else{\n",
    "        io.out:=io.a||io.b\n",
    "    }\n",
    "}"
   ]
  },
  {
   "cell_type": "code",
   "execution_count": 26,
   "id": "ded1a077",
   "metadata": {},
   "outputs": [
    {
     "data": {
      "text/html": [
       "<div width=\"100%\" height=\"100%\" overflow=\"scroll\"><?xml version=\"1.0\" encoding=\"UTF-8\" standalone=\"no\"?>\n",
       "<?xml-stylesheet href=\"styles.css\" type=\"text/css\"?>\n",
       "<!DOCTYPE svg PUBLIC \"-//W3C//DTD SVG 1.1//EN\"\n",
       " \"http://www.w3.org/Graphics/SVG/1.1/DTD/svg11.dtd\">\n",
       "<!-- Generated by graphviz version 2.43.0 (0)\n",
       " -->\n",
       "<!-- Title: AndOrGenerationTime Pages: 1 -->\n",
       "<svg width=\"322pt\" height=\"261pt\"\n",
       " viewBox=\"0.00 0.00 322.00 261.00\" xmlns=\"http://www.w3.org/2000/svg\" xmlns:xlink=\"http://www.w3.org/1999/xlink\">\n",
       "<g id=\"graph0\" class=\"graph\" transform=\"scale(1 1) rotate(0) translate(4 257)\">\n",
       "<title>AndOrGenerationTime</title>\n",
       "<polygon fill=\"white\" stroke=\"transparent\" points=\"-4,4 -4,-257 318,-257 318,4 -4,4\"/>\n",
       "<g id=\"clust1\" class=\"cluster\">\n",
       "<title>cluster_AndOrGenerationTime</title>\n",
       "<polygon fill=\"#fff8dc\" stroke=\"black\" points=\"8,-8 8,-245 306,-245 306,-8 8,-8\"/>\n",
       "<text text-anchor=\"middle\" x=\"157\" y=\"-229.8\" font-family=\"Times,serif\" font-size=\"14.00\">AndOrGenerationTime</text>\n",
       "</g>\n",
       "<!-- cluster_AndOrGenerationTime_clock -->\n",
       "<g id=\"node1\" class=\"node\">\n",
       "<title>cluster_AndOrGenerationTime_clock</title>\n",
       "<polygon fill=\"#cccccc\" stroke=\"black\" points=\"70,-214 16,-214 16,-178 70,-178 70,-214\"/>\n",
       "<text text-anchor=\"middle\" x=\"43\" y=\"-192.3\" font-family=\"Times,serif\" font-size=\"14.00\">clock</text>\n",
       "</g>\n",
       "<!-- cluster_AndOrGenerationTime_reset -->\n",
       "<g id=\"node2\" class=\"node\">\n",
       "<title>cluster_AndOrGenerationTime_reset</title>\n",
       "<polygon fill=\"#cccccc\" stroke=\"black\" points=\"70,-160 16,-160 16,-124 70,-124 70,-160\"/>\n",
       "<text text-anchor=\"middle\" x=\"43\" y=\"-138.3\" font-family=\"Times,serif\" font-size=\"14.00\">reset</text>\n",
       "</g>\n",
       "<!-- cluster_AndOrGenerationTime_io_a -->\n",
       "<g id=\"node3\" class=\"node\">\n",
       "<title>cluster_AndOrGenerationTime_io_a</title>\n",
       "<polygon fill=\"#cccccc\" stroke=\"black\" points=\"70,-106 16,-106 16,-70 70,-70 70,-106\"/>\n",
       "<text text-anchor=\"middle\" x=\"43\" y=\"-84.3\" font-family=\"Times,serif\" font-size=\"14.00\">io_a</text>\n",
       "</g>\n",
       "<!-- op_or_5 -->\n",
       "<g id=\"node6\" class=\"node\">\n",
       "<title>op_or_5</title>\n",
       "<polygon fill=\"#d8bfd8\" stroke=\"transparent\" points=\"114,-36 114,-86 195,-86 195,-36 114,-36\"/>\n",
       "<polygon fill=\"none\" stroke=\"black\" points=\"114.5,-61 114.5,-86 137.5,-86 137.5,-61 114.5,-61\"/>\n",
       "<text text-anchor=\"start\" x=\"119.5\" y=\"-69.8\" font-family=\"Times,serif\" font-size=\"14.00\">●</text>\n",
       "<polygon fill=\"none\" stroke=\"black\" points=\"137.5,-36 137.5,-86 172.5,-86 172.5,-36 137.5,-36\"/>\n",
       "<text text-anchor=\"start\" x=\"142.5\" y=\"-57.3\" font-family=\"Times,serif\" font-size=\"14.00\"> or </text>\n",
       "<polygon fill=\"none\" stroke=\"black\" points=\"172.5,-36 172.5,-86 195.5,-86 195.5,-36 172.5,-36\"/>\n",
       "<text text-anchor=\"start\" x=\"177.5\" y=\"-57.3\" font-family=\"Times,serif\" font-size=\"14.00\">●</text>\n",
       "<polygon fill=\"none\" stroke=\"black\" points=\"114.5,-36 114.5,-61 137.5,-61 137.5,-36 114.5,-36\"/>\n",
       "<text text-anchor=\"start\" x=\"119.5\" y=\"-44.8\" font-family=\"Times,serif\" font-size=\"14.00\">●</text>\n",
       "</g>\n",
       "<!-- cluster_AndOrGenerationTime_io_a&#45;&gt;op_or_5 -->\n",
       "<g id=\"edge1\" class=\"edge\">\n",
       "<title>cluster_AndOrGenerationTime_io_a&#45;&gt;op_or_5:in1</title>\n",
       "<path fill=\"none\" stroke=\"black\" d=\"M70.15,-80.18C80.15,-77.7 91.92,-75.36 103.47,-74.43\"/>\n",
       "<polygon fill=\"black\" stroke=\"black\" points=\"103.66,-77.92 113.5,-74 103.36,-70.93 103.66,-77.92\"/>\n",
       "</g>\n",
       "<!-- cluster_AndOrGenerationTime_io_b -->\n",
       "<g id=\"node4\" class=\"node\">\n",
       "<title>cluster_AndOrGenerationTime_io_b</title>\n",
       "<polygon fill=\"#cccccc\" stroke=\"black\" points=\"70,-52 16,-52 16,-16 70,-16 70,-52\"/>\n",
       "<text text-anchor=\"middle\" x=\"43\" y=\"-30.3\" font-family=\"Times,serif\" font-size=\"14.00\">io_b</text>\n",
       "</g>\n",
       "<!-- cluster_AndOrGenerationTime_io_b&#45;&gt;op_or_5 -->\n",
       "<g id=\"edge2\" class=\"edge\">\n",
       "<title>cluster_AndOrGenerationTime_io_b&#45;&gt;op_or_5:in2</title>\n",
       "<path fill=\"none\" stroke=\"black\" d=\"M70.15,-41.82C80.15,-44.3 91.92,-46.64 103.47,-47.57\"/>\n",
       "<polygon fill=\"black\" stroke=\"black\" points=\"103.36,-51.07 113.5,-48 103.66,-44.08 103.36,-51.07\"/>\n",
       "</g>\n",
       "<!-- cluster_AndOrGenerationTime_io_out -->\n",
       "<g id=\"node5\" class=\"node\">\n",
       "<title>cluster_AndOrGenerationTime_io_out</title>\n",
       "<polygon fill=\"#e0ffff\" stroke=\"black\" points=\"298,-79 239,-79 239,-43 298,-43 298,-79\"/>\n",
       "<text text-anchor=\"middle\" x=\"268.5\" y=\"-57.3\" font-family=\"Times,serif\" font-size=\"14.00\">io_out</text>\n",
       "</g>\n",
       "<!-- op_or_5&#45;&gt;cluster_AndOrGenerationTime_io_out -->\n",
       "<g id=\"edge3\" class=\"edge\">\n",
       "<title>op_or_5:out&#45;&gt;cluster_AndOrGenerationTime_io_out</title>\n",
       "<path fill=\"none\" stroke=\"black\" d=\"M196.5,-61C206.95,-61 218.26,-61 228.72,-61\"/>\n",
       "<polygon fill=\"black\" stroke=\"black\" points=\"228.83,-64.5 238.83,-61 228.83,-57.5 228.83,-64.5\"/>\n",
       "</g>\n",
       "</g>\n",
       "</svg>\n",
       "</div>"
      ]
     },
     "metadata": {},
     "output_type": "display_data"
    }
   ],
   "source": [
    "visualize(() => new AndOrGenerationTime(false))"
   ]
  },
  {
   "cell_type": "code",
   "execution_count": 24,
   "id": "cathedral-indie",
   "metadata": {
    "deletable": false,
    "editable": false,
    "nbgrader": {
     "cell_type": "code",
     "checksum": "bf0a38f7260f4946ff5fad4cf8b14104",
     "grade": true,
     "grade_id": "testAndOrCompileTime",
     "locked": true,
     "points": 3,
     "schema_version": 3,
     "solution": false,
     "task": false
    }
   },
   "outputs": [
    {
     "data": {
      "text/plain": [
       "defined \u001b[32mfunction\u001b[39m \u001b[36mtestAndOrGenerationTime\u001b[39m"
      ]
     },
     "execution_count": 24,
     "metadata": {},
     "output_type": "execute_result"
    }
   ],
   "source": [
    "def testAndOrGenerationTime(useAnd: Boolean): Boolean = {\n",
    "    test(new AndOrGenerationTime(useAnd)) { dut =>\n",
    "        for (a <- Seq(true, false)) {\n",
    "            for (b <- Seq(true, false)) {\n",
    "                dut.io.a.poke(a.B)\n",
    "                dut.io.b.poke(b.B)\n",
    "                if (useAnd) dut.io.out.expect((a && b).B)\n",
    "                else        dut.io.out.expect((a || b).B)\n",
    "            }\n",
    "        }\n",
    "    }\n",
    "    true\n",
    "}\n",
    "assert(testAndOrGenerationTime(useAnd = true))\n",
    "assert(testAndOrGenerationTime(useAnd = false))"
   ]
  },
  {
   "cell_type": "markdown",
   "id": "induced-brazilian",
   "metadata": {
    "deletable": false,
    "editable": false,
    "nbgrader": {
     "cell_type": "markdown",
     "checksum": "d95c567ccc6ade63194d049441051390",
     "grade": false,
     "grade_id": "ChiselCond-header",
     "locked": true,
     "schema_version": 3,
     "solution": false,
     "task": false
    }
   },
   "source": [
    "## Problem 6 (3 pts) - Chisel Conditional in Chisel modules\n",
    "> The generated hardware can use conditionals (i.e `Mux` or `when/elsewhen/otherwise`) to select signals. In this exercise, `useAnd` is an `Input` to the module. If `useAnd` is `true`, then the output `out` should be `a && b`, otherwise `a || b`. In this example both the logic for `a && b` and `a || b` hardware will be generated. You may use either a Chisel `Mux` or the Chisel `when` statements."
   ]
  },
  {
   "cell_type": "code",
   "execution_count": 27,
   "id": "legislative-barrier",
   "metadata": {
    "deletable": false,
    "nbgrader": {
     "cell_type": "code",
     "checksum": "ee80d14ac4ab33e27bfc94afeac4a973",
     "grade": false,
     "grade_id": "AndOrRunTime",
     "locked": false,
     "schema_version": 3,
     "solution": true,
     "task": false
    }
   },
   "outputs": [
    {
     "data": {
      "text/plain": [
       "defined \u001b[32mclass\u001b[39m \u001b[36mAndOrRunTime\u001b[39m"
      ]
     },
     "execution_count": 27,
     "metadata": {},
     "output_type": "execute_result"
    }
   ],
   "source": [
    "class AndOrRunTime extends Module {\n",
    "    val io = IO(new Bundle {\n",
    "        val a      = Input(Bool())\n",
    "        val b      = Input(Bool())\n",
    "        val useAnd = Input(Bool())\n",
    "        val out    = Output(Bool())\n",
    "    })\n",
    "    \n",
    "    // YOUR CODE HERE\n",
    "    io.out:=(io.a&&io.b&&io.useAnd)||((io.a||io.b)&&(!io.useAnd))\n",
    "    \n",
    "}"
   ]
  },
  {
   "cell_type": "code",
   "execution_count": 29,
   "id": "8997b195",
   "metadata": {},
   "outputs": [
    {
     "data": {
      "text/html": [
       "<div width=\"100%\" height=\"100%\" overflow=\"scroll\"><?xml version=\"1.0\" encoding=\"UTF-8\" standalone=\"no\"?>\n",
       "<?xml-stylesheet href=\"styles.css\" type=\"text/css\"?>\n",
       "<!DOCTYPE svg PUBLIC \"-//W3C//DTD SVG 1.1//EN\"\n",
       " \"http://www.w3.org/Graphics/SVG/1.1/DTD/svg11.dtd\">\n",
       "<!-- Generated by graphviz version 2.43.0 (0)\n",
       " -->\n",
       "<!-- Title: AndOrRunTime Pages: 1 -->\n",
       "<svg width=\"913pt\" height=\"315pt\"\n",
       " viewBox=\"0.00 0.00 913.00 315.00\" xmlns=\"http://www.w3.org/2000/svg\" xmlns:xlink=\"http://www.w3.org/1999/xlink\">\n",
       "<g id=\"graph0\" class=\"graph\" transform=\"scale(1 1) rotate(0) translate(4 311)\">\n",
       "<title>AndOrRunTime</title>\n",
       "<polygon fill=\"white\" stroke=\"transparent\" points=\"-4,4 -4,-311 909,-311 909,4 -4,4\"/>\n",
       "<g id=\"clust1\" class=\"cluster\">\n",
       "<title>cluster_AndOrRunTime</title>\n",
       "<polygon fill=\"#fff8dc\" stroke=\"black\" points=\"8,-8 8,-299 897,-299 897,-8 8,-8\"/>\n",
       "<text text-anchor=\"middle\" x=\"452.5\" y=\"-283.8\" font-family=\"Times,serif\" font-size=\"14.00\">AndOrRunTime</text>\n",
       "</g>\n",
       "<!-- cluster_AndOrRunTime_clock -->\n",
       "<g id=\"node1\" class=\"node\">\n",
       "<title>cluster_AndOrRunTime_clock</title>\n",
       "<polygon fill=\"#cccccc\" stroke=\"black\" points=\"87.5,-268 33.5,-268 33.5,-232 87.5,-232 87.5,-268\"/>\n",
       "<text text-anchor=\"middle\" x=\"60.5\" y=\"-246.3\" font-family=\"Times,serif\" font-size=\"14.00\">clock</text>\n",
       "</g>\n",
       "<!-- cluster_AndOrRunTime_reset -->\n",
       "<g id=\"node2\" class=\"node\">\n",
       "<title>cluster_AndOrRunTime_reset</title>\n",
       "<polygon fill=\"#cccccc\" stroke=\"black\" points=\"87.5,-214 33.5,-214 33.5,-178 87.5,-178 87.5,-214\"/>\n",
       "<text text-anchor=\"middle\" x=\"60.5\" y=\"-192.3\" font-family=\"Times,serif\" font-size=\"14.00\">reset</text>\n",
       "</g>\n",
       "<!-- cluster_AndOrRunTime_io_a -->\n",
       "<g id=\"node3\" class=\"node\">\n",
       "<title>cluster_AndOrRunTime_io_a</title>\n",
       "<polygon fill=\"#cccccc\" stroke=\"black\" points=\"87.5,-160 33.5,-160 33.5,-124 87.5,-124 87.5,-160\"/>\n",
       "<text text-anchor=\"middle\" x=\"60.5\" y=\"-138.3\" font-family=\"Times,serif\" font-size=\"14.00\">io_a</text>\n",
       "</g>\n",
       "<!-- op_and_6 -->\n",
       "<g id=\"node8\" class=\"node\">\n",
       "<title>op_and_6</title>\n",
       "<polygon fill=\"#d8bfd8\" stroke=\"transparent\" points=\"149,-171 149,-221 241,-221 241,-171 149,-171\"/>\n",
       "<polygon fill=\"none\" stroke=\"black\" points=\"149,-196 149,-221 172,-221 172,-196 149,-196\"/>\n",
       "<text text-anchor=\"start\" x=\"154\" y=\"-204.8\" font-family=\"Times,serif\" font-size=\"14.00\">●</text>\n",
       "<polygon fill=\"none\" stroke=\"black\" points=\"172,-171 172,-221 218,-221 218,-171 172,-171\"/>\n",
       "<text text-anchor=\"start\" x=\"177\" y=\"-192.3\" font-family=\"Times,serif\" font-size=\"14.00\"> and </text>\n",
       "<polygon fill=\"none\" stroke=\"black\" points=\"218,-171 218,-221 241,-221 241,-171 218,-171\"/>\n",
       "<text text-anchor=\"start\" x=\"223\" y=\"-192.3\" font-family=\"Times,serif\" font-size=\"14.00\">●</text>\n",
       "<polygon fill=\"none\" stroke=\"black\" points=\"149,-171 149,-196 172,-196 172,-171 149,-171\"/>\n",
       "<text text-anchor=\"start\" x=\"154\" y=\"-179.8\" font-family=\"Times,serif\" font-size=\"14.00\">●</text>\n",
       "</g>\n",
       "<!-- cluster_AndOrRunTime_io_a&#45;&gt;op_and_6 -->\n",
       "<g id=\"edge2\" class=\"edge\">\n",
       "<title>cluster_AndOrRunTime_io_a&#45;&gt;op_and_6:in1</title>\n",
       "<path fill=\"none\" stroke=\"black\" d=\"M87.81,-157.19C93.62,-160.85 99.63,-164.9 105,-169 122.5,-182.37 122.5,-201.65 137.75,-207.35\"/>\n",
       "<polygon fill=\"black\" stroke=\"black\" points=\"137.57,-210.87 148,-209 138.68,-203.96 137.57,-210.87\"/>\n",
       "</g>\n",
       "<!-- op_or_8 -->\n",
       "<g id=\"node12\" class=\"node\">\n",
       "<title>op_or_8</title>\n",
       "<polygon fill=\"#d8bfd8\" stroke=\"transparent\" points=\"154.5,-95 154.5,-145 235.5,-145 235.5,-95 154.5,-95\"/>\n",
       "<polygon fill=\"none\" stroke=\"black\" points=\"155,-120 155,-145 178,-145 178,-120 155,-120\"/>\n",
       "<text text-anchor=\"start\" x=\"160\" y=\"-128.8\" font-family=\"Times,serif\" font-size=\"14.00\">●</text>\n",
       "<polygon fill=\"none\" stroke=\"black\" points=\"178,-95 178,-145 213,-145 213,-95 178,-95\"/>\n",
       "<text text-anchor=\"start\" x=\"183\" y=\"-116.3\" font-family=\"Times,serif\" font-size=\"14.00\"> or </text>\n",
       "<polygon fill=\"none\" stroke=\"black\" points=\"213,-95 213,-145 236,-145 236,-95 213,-95\"/>\n",
       "<text text-anchor=\"start\" x=\"218\" y=\"-116.3\" font-family=\"Times,serif\" font-size=\"14.00\">●</text>\n",
       "<polygon fill=\"none\" stroke=\"black\" points=\"155,-95 155,-120 178,-120 178,-95 155,-95\"/>\n",
       "<text text-anchor=\"start\" x=\"160\" y=\"-103.8\" font-family=\"Times,serif\" font-size=\"14.00\">●</text>\n",
       "</g>\n",
       "<!-- cluster_AndOrRunTime_io_a&#45;&gt;op_or_8 -->\n",
       "<g id=\"edge3\" class=\"edge\">\n",
       "<title>cluster_AndOrRunTime_io_a&#45;&gt;op_or_8:in1</title>\n",
       "<path fill=\"none\" stroke=\"black\" d=\"M87.75,-138.08C103.49,-136.01 124.2,-133.78 143.85,-133.17\"/>\n",
       "<polygon fill=\"black\" stroke=\"black\" points=\"144.06,-136.66 154,-133 143.94,-129.66 144.06,-136.66\"/>\n",
       "</g>\n",
       "<!-- cluster_AndOrRunTime_io_b -->\n",
       "<g id=\"node4\" class=\"node\">\n",
       "<title>cluster_AndOrRunTime_io_b</title>\n",
       "<polygon fill=\"#cccccc\" stroke=\"black\" points=\"87.5,-106 33.5,-106 33.5,-70 87.5,-70 87.5,-106\"/>\n",
       "<text text-anchor=\"middle\" x=\"60.5\" y=\"-84.3\" font-family=\"Times,serif\" font-size=\"14.00\">io_b</text>\n",
       "</g>\n",
       "<!-- cluster_AndOrRunTime_io_b&#45;&gt;op_and_6 -->\n",
       "<g id=\"edge1\" class=\"edge\">\n",
       "<title>cluster_AndOrRunTime_io_b&#45;&gt;op_and_6:in2</title>\n",
       "<path fill=\"none\" stroke=\"black\" d=\"M87.75,-102.42C93.68,-106.18 99.76,-110.46 105,-115 123.83,-131.33 122.24,-141.59 141,-158 144.64,-161.18 149.21,-161.76 152.96,-162.63\"/>\n",
       "<polygon fill=\"black\" stroke=\"black\" points=\"150.56,-165.19 160,-170 155.62,-160.35 150.56,-165.19\"/>\n",
       "</g>\n",
       "<!-- cluster_AndOrRunTime_io_b&#45;&gt;op_or_8 -->\n",
       "<g id=\"edge4\" class=\"edge\">\n",
       "<title>cluster_AndOrRunTime_io_b&#45;&gt;op_or_8:in2</title>\n",
       "<path fill=\"none\" stroke=\"black\" d=\"M87.52,-96.28C103.24,-100.66 124.04,-105.39 143.99,-106.67\"/>\n",
       "<polygon fill=\"black\" stroke=\"black\" points=\"143.89,-110.17 154,-107 144.12,-103.17 143.89,-110.17\"/>\n",
       "</g>\n",
       "<!-- cluster_AndOrRunTime_io_useAnd -->\n",
       "<g id=\"node5\" class=\"node\">\n",
       "<title>cluster_AndOrRunTime_io_useAnd</title>\n",
       "<polygon fill=\"#cccccc\" stroke=\"black\" points=\"105,-52 16,-52 16,-16 105,-16 105,-52\"/>\n",
       "<text text-anchor=\"middle\" x=\"60.5\" y=\"-30.3\" font-family=\"Times,serif\" font-size=\"14.00\">io_useAnd</text>\n",
       "</g>\n",
       "<!-- op_and_7 -->\n",
       "<g id=\"node10\" class=\"node\">\n",
       "<title>op_and_7</title>\n",
       "<polygon fill=\"#d8bfd8\" stroke=\"transparent\" points=\"427,-119 427,-169 519,-169 519,-119 427,-119\"/>\n",
       "<polygon fill=\"none\" stroke=\"black\" points=\"427,-144 427,-169 450,-169 450,-144 427,-144\"/>\n",
       "<text text-anchor=\"start\" x=\"432\" y=\"-152.8\" font-family=\"Times,serif\" font-size=\"14.00\">●</text>\n",
       "<polygon fill=\"none\" stroke=\"black\" points=\"450,-119 450,-169 496,-169 496,-119 450,-119\"/>\n",
       "<text text-anchor=\"start\" x=\"455\" y=\"-140.3\" font-family=\"Times,serif\" font-size=\"14.00\"> and </text>\n",
       "<polygon fill=\"none\" stroke=\"black\" points=\"496,-119 496,-169 519,-169 519,-119 496,-119\"/>\n",
       "<text text-anchor=\"start\" x=\"501\" y=\"-140.3\" font-family=\"Times,serif\" font-size=\"14.00\">●</text>\n",
       "<polygon fill=\"none\" stroke=\"black\" points=\"427,-119 427,-144 450,-144 450,-119 427,-119\"/>\n",
       "<text text-anchor=\"start\" x=\"432\" y=\"-127.8\" font-family=\"Times,serif\" font-size=\"14.00\">●</text>\n",
       "</g>\n",
       "<!-- cluster_AndOrRunTime_io_useAnd&#45;&gt;op_and_7 -->\n",
       "<g id=\"edge16\" class=\"edge\">\n",
       "<title>cluster_AndOrRunTime_io_useAnd&#45;&gt;op_and_7:in2</title>\n",
       "<path fill=\"none\" stroke=\"black\" d=\"M105.27,-50.79C116.78,-54.82 129.27,-58.87 141,-62 188.16,-74.59 205.31,-60.22 249,-82 268.42,-91.69 265.25,-106 285,-115 339.14,-139.67 360.49,-132.03 415.68,-131.09\"/>\n",
       "<polygon fill=\"black\" stroke=\"black\" points=\"416.03,-134.59 426,-131 415.97,-127.59 416.03,-134.59\"/>\n",
       "</g>\n",
       "<!-- op_not_9 -->\n",
       "<g id=\"node14\" class=\"node\">\n",
       "<title>op_not_9</title>\n",
       "<polygon fill=\"#d8bfd8\" stroke=\"transparent\" points=\"150.5,-22.5 150.5,-47.5 239.5,-47.5 239.5,-22.5 150.5,-22.5\"/>\n",
       "<polygon fill=\"none\" stroke=\"black\" points=\"151,-22 151,-47 174,-47 174,-22 151,-22\"/>\n",
       "<text text-anchor=\"start\" x=\"156\" y=\"-30.8\" font-family=\"Times,serif\" font-size=\"14.00\">●</text>\n",
       "<polygon fill=\"none\" stroke=\"black\" points=\"174,-22 174,-47 217,-47 217,-22 174,-22\"/>\n",
       "<text text-anchor=\"start\" x=\"179\" y=\"-30.8\" font-family=\"Times,serif\" font-size=\"14.00\"> not </text>\n",
       "<polygon fill=\"none\" stroke=\"black\" points=\"217,-22 217,-47 240,-47 240,-22 217,-22\"/>\n",
       "<text text-anchor=\"start\" x=\"222\" y=\"-30.8\" font-family=\"Times,serif\" font-size=\"14.00\">●</text>\n",
       "</g>\n",
       "<!-- cluster_AndOrRunTime_io_useAnd&#45;&gt;op_not_9 -->\n",
       "<g id=\"edge7\" class=\"edge\">\n",
       "<title>cluster_AndOrRunTime_io_useAnd&#45;&gt;op_not_9:in1</title>\n",
       "<path fill=\"none\" stroke=\"black\" d=\"M105.16,-34C116.22,-34 128.26,-34 139.91,-34\"/>\n",
       "<polygon fill=\"black\" stroke=\"black\" points=\"140,-37.5 150,-34 140,-30.5 140,-37.5\"/>\n",
       "</g>\n",
       "<!-- cluster_AndOrRunTime_io_out -->\n",
       "<g id=\"node6\" class=\"node\">\n",
       "<title>cluster_AndOrRunTime_io_out</title>\n",
       "<polygon fill=\"#e0ffff\" stroke=\"black\" points=\"889,-123 830,-123 830,-87 889,-87 889,-123\"/>\n",
       "<text text-anchor=\"middle\" x=\"859.5\" y=\"-101.3\" font-family=\"Times,serif\" font-size=\"14.00\">io_out</text>\n",
       "</g>\n",
       "<!-- cluster_AndOrRunTime__io_out_T -->\n",
       "<g id=\"node7\" class=\"node\">\n",
       "<title>cluster_AndOrRunTime__io_out_T</title>\n",
       "<polygon fill=\"none\" stroke=\"black\" points=\"375,-197 293,-197 293,-161 375,-161 375,-197\"/>\n",
       "<text text-anchor=\"middle\" x=\"334\" y=\"-175.3\" font-family=\"Times,serif\" font-size=\"14.00\">_io_out_T</text>\n",
       "</g>\n",
       "<!-- cluster_AndOrRunTime__io_out_T&#45;&gt;op_and_7 -->\n",
       "<g id=\"edge9\" class=\"edge\">\n",
       "<title>cluster_AndOrRunTime__io_out_T&#45;&gt;op_and_7:in1</title>\n",
       "<path fill=\"none\" stroke=\"black\" d=\"M375.27,-164.94C387.85,-161.47 402.09,-158.44 415.98,-157.39\"/>\n",
       "<polygon fill=\"black\" stroke=\"black\" points=\"416.15,-160.89 426,-157 415.87,-153.9 416.15,-160.89\"/>\n",
       "</g>\n",
       "<!-- op_and_6&#45;&gt;cluster_AndOrRunTime__io_out_T -->\n",
       "<g id=\"edge5\" class=\"edge\">\n",
       "<title>op_and_6:out&#45;&gt;cluster_AndOrRunTime__io_out_T</title>\n",
       "<path fill=\"none\" stroke=\"black\" d=\"M242,-196C255.45,-196 269.83,-194.18 283.09,-191.74\"/>\n",
       "<polygon fill=\"black\" stroke=\"black\" points=\"283.86,-195.15 292.98,-189.77 282.49,-188.29 283.86,-195.15\"/>\n",
       "</g>\n",
       "<!-- cluster_AndOrRunTime__io_out_T_1 -->\n",
       "<g id=\"node9\" class=\"node\">\n",
       "<title>cluster_AndOrRunTime__io_out_T_1</title>\n",
       "<polygon fill=\"none\" stroke=\"black\" points=\"661,-156 563,-156 563,-120 661,-120 661,-156\"/>\n",
       "<text text-anchor=\"middle\" x=\"612\" y=\"-134.3\" font-family=\"Times,serif\" font-size=\"14.00\">_io_out_T_1</text>\n",
       "</g>\n",
       "<!-- op_or_11 -->\n",
       "<g id=\"node17\" class=\"node\">\n",
       "<title>op_or_11</title>\n",
       "<polygon fill=\"#d8bfd8\" stroke=\"transparent\" points=\"705,-80 705,-130 786,-130 786,-80 705,-80\"/>\n",
       "<polygon fill=\"none\" stroke=\"black\" points=\"705.5,-105 705.5,-130 728.5,-130 728.5,-105 705.5,-105\"/>\n",
       "<text text-anchor=\"start\" x=\"710.5\" y=\"-113.8\" font-family=\"Times,serif\" font-size=\"14.00\">●</text>\n",
       "<polygon fill=\"none\" stroke=\"black\" points=\"728.5,-80 728.5,-130 763.5,-130 763.5,-80 728.5,-80\"/>\n",
       "<text text-anchor=\"start\" x=\"733.5\" y=\"-101.3\" font-family=\"Times,serif\" font-size=\"14.00\"> or </text>\n",
       "<polygon fill=\"none\" stroke=\"black\" points=\"763.5,-80 763.5,-130 786.5,-130 786.5,-80 763.5,-80\"/>\n",
       "<text text-anchor=\"start\" x=\"768.5\" y=\"-101.3\" font-family=\"Times,serif\" font-size=\"14.00\">●</text>\n",
       "<polygon fill=\"none\" stroke=\"black\" points=\"705.5,-80 705.5,-105 728.5,-105 728.5,-80 705.5,-80\"/>\n",
       "<text text-anchor=\"start\" x=\"710.5\" y=\"-88.8\" font-family=\"Times,serif\" font-size=\"14.00\">●</text>\n",
       "</g>\n",
       "<!-- cluster_AndOrRunTime__io_out_T_1&#45;&gt;op_or_11 -->\n",
       "<g id=\"edge13\" class=\"edge\">\n",
       "<title>cluster_AndOrRunTime__io_out_T_1&#45;&gt;op_or_11:in1</title>\n",
       "<path fill=\"none\" stroke=\"black\" d=\"M661.01,-123.47C671.65,-121.09 683.1,-119.15 694.31,-118.37\"/>\n",
       "<polygon fill=\"black\" stroke=\"black\" points=\"694.63,-121.86 704.5,-118 694.38,-114.86 694.63,-121.86\"/>\n",
       "</g>\n",
       "<!-- op_and_7&#45;&gt;cluster_AndOrRunTime__io_out_T_1 -->\n",
       "<g id=\"edge6\" class=\"edge\">\n",
       "<title>op_and_7:out&#45;&gt;cluster_AndOrRunTime__io_out_T_1</title>\n",
       "<path fill=\"none\" stroke=\"black\" d=\"M520,-144C530.56,-144 541.79,-143.59 552.63,-142.99\"/>\n",
       "<polygon fill=\"black\" stroke=\"black\" points=\"553.1,-146.47 562.87,-142.36 552.67,-139.48 553.1,-146.47\"/>\n",
       "</g>\n",
       "<!-- cluster_AndOrRunTime__io_out_T_2 -->\n",
       "<g id=\"node11\" class=\"node\">\n",
       "<title>cluster_AndOrRunTime__io_out_T_2</title>\n",
       "<polygon fill=\"none\" stroke=\"black\" points=\"383,-106 285,-106 285,-70 383,-70 383,-106\"/>\n",
       "<text text-anchor=\"middle\" x=\"334\" y=\"-84.3\" font-family=\"Times,serif\" font-size=\"14.00\">_io_out_T_2</text>\n",
       "</g>\n",
       "<!-- op_and_10 -->\n",
       "<g id=\"node16\" class=\"node\">\n",
       "<title>op_and_10</title>\n",
       "<polygon fill=\"#d8bfd8\" stroke=\"transparent\" points=\"427,-43 427,-93 519,-93 519,-43 427,-43\"/>\n",
       "<polygon fill=\"none\" stroke=\"black\" points=\"427,-68 427,-93 450,-93 450,-68 427,-68\"/>\n",
       "<text text-anchor=\"start\" x=\"432\" y=\"-76.8\" font-family=\"Times,serif\" font-size=\"14.00\">●</text>\n",
       "<polygon fill=\"none\" stroke=\"black\" points=\"450,-43 450,-93 496,-93 496,-43 450,-43\"/>\n",
       "<text text-anchor=\"start\" x=\"455\" y=\"-64.3\" font-family=\"Times,serif\" font-size=\"14.00\"> and </text>\n",
       "<polygon fill=\"none\" stroke=\"black\" points=\"496,-43 496,-93 519,-93 519,-43 496,-43\"/>\n",
       "<text text-anchor=\"start\" x=\"501\" y=\"-64.3\" font-family=\"Times,serif\" font-size=\"14.00\">●</text>\n",
       "<polygon fill=\"none\" stroke=\"black\" points=\"427,-43 427,-68 450,-68 450,-43 427,-43\"/>\n",
       "<text text-anchor=\"start\" x=\"432\" y=\"-51.8\" font-family=\"Times,serif\" font-size=\"14.00\">●</text>\n",
       "</g>\n",
       "<!-- cluster_AndOrRunTime__io_out_T_2&#45;&gt;op_and_10 -->\n",
       "<g id=\"edge12\" class=\"edge\">\n",
       "<title>cluster_AndOrRunTime__io_out_T_2&#45;&gt;op_and_10:in1</title>\n",
       "<path fill=\"none\" stroke=\"black\" d=\"M383.12,-82.91C393.6,-82.09 404.81,-81.42 415.7,-81.14\"/>\n",
       "<polygon fill=\"black\" stroke=\"black\" points=\"416.05,-84.63 426,-81 415.95,-77.63 416.05,-84.63\"/>\n",
       "</g>\n",
       "<!-- op_or_8&#45;&gt;cluster_AndOrRunTime__io_out_T_2 -->\n",
       "<g id=\"edge10\" class=\"edge\">\n",
       "<title>op_or_8:out&#45;&gt;cluster_AndOrRunTime__io_out_T_2</title>\n",
       "<path fill=\"none\" stroke=\"black\" d=\"M237,-120C254.02,-120 271.91,-115.42 287.57,-109.72\"/>\n",
       "<polygon fill=\"black\" stroke=\"black\" points=\"288.95,-112.94 297.01,-106.06 286.42,-106.41 288.95,-112.94\"/>\n",
       "</g>\n",
       "<!-- cluster_AndOrRunTime__io_out_T_3 -->\n",
       "<g id=\"node13\" class=\"node\">\n",
       "<title>cluster_AndOrRunTime__io_out_T_3</title>\n",
       "<polygon fill=\"none\" stroke=\"black\" points=\"383,-52 285,-52 285,-16 383,-16 383,-52\"/>\n",
       "<text text-anchor=\"middle\" x=\"334\" y=\"-30.3\" font-family=\"Times,serif\" font-size=\"14.00\">_io_out_T_3</text>\n",
       "</g>\n",
       "<!-- cluster_AndOrRunTime__io_out_T_3&#45;&gt;op_and_10 -->\n",
       "<g id=\"edge17\" class=\"edge\">\n",
       "<title>cluster_AndOrRunTime__io_out_T_3&#45;&gt;op_and_10:in2</title>\n",
       "<path fill=\"none\" stroke=\"black\" d=\"M383.17,-49.37C393.66,-51.82 404.92,-53.82 415.96,-54.62\"/>\n",
       "<polygon fill=\"black\" stroke=\"black\" points=\"415.88,-58.12 426,-55 416.14,-51.13 415.88,-58.12\"/>\n",
       "</g>\n",
       "<!-- op_not_9&#45;&gt;cluster_AndOrRunTime__io_out_T_3 -->\n",
       "<g id=\"edge8\" class=\"edge\">\n",
       "<title>op_not_9:out&#45;&gt;cluster_AndOrRunTime__io_out_T_3</title>\n",
       "<path fill=\"none\" stroke=\"black\" d=\"M241,-34C251.88,-34 263.49,-34 274.67,-34\"/>\n",
       "<polygon fill=\"black\" stroke=\"black\" points=\"274.78,-37.5 284.78,-34 274.78,-30.5 274.78,-37.5\"/>\n",
       "</g>\n",
       "<!-- cluster_AndOrRunTime__io_out_T_4 -->\n",
       "<g id=\"node15\" class=\"node\">\n",
       "<title>cluster_AndOrRunTime__io_out_T_4</title>\n",
       "<polygon fill=\"none\" stroke=\"black\" points=\"661,-91 563,-91 563,-55 661,-55 661,-91\"/>\n",
       "<text text-anchor=\"middle\" x=\"612\" y=\"-69.3\" font-family=\"Times,serif\" font-size=\"14.00\">_io_out_T_4</text>\n",
       "</g>\n",
       "<!-- cluster_AndOrRunTime__io_out_T_4&#45;&gt;op_or_11 -->\n",
       "<g id=\"edge11\" class=\"edge\">\n",
       "<title>cluster_AndOrRunTime__io_out_T_4&#45;&gt;op_or_11:in2</title>\n",
       "<path fill=\"none\" stroke=\"black\" d=\"M661.05,-86.81C671.69,-89.06 683.14,-90.91 694.33,-91.65\"/>\n",
       "<polygon fill=\"black\" stroke=\"black\" points=\"694.39,-95.15 704.5,-92 694.63,-88.16 694.39,-95.15\"/>\n",
       "</g>\n",
       "<!-- op_and_10&#45;&gt;cluster_AndOrRunTime__io_out_T_4 -->\n",
       "<g id=\"edge14\" class=\"edge\">\n",
       "<title>op_and_10:out&#45;&gt;cluster_AndOrRunTime__io_out_T_4</title>\n",
       "<path fill=\"none\" stroke=\"black\" d=\"M520,-68C530.55,-68 541.78,-68.34 552.62,-68.84\"/>\n",
       "<polygon fill=\"black\" stroke=\"black\" points=\"552.69,-72.35 562.86,-69.37 553.05,-65.36 552.69,-72.35\"/>\n",
       "</g>\n",
       "<!-- op_or_11&#45;&gt;cluster_AndOrRunTime_io_out -->\n",
       "<g id=\"edge15\" class=\"edge\">\n",
       "<title>op_or_11:out&#45;&gt;cluster_AndOrRunTime_io_out</title>\n",
       "<path fill=\"none\" stroke=\"black\" d=\"M787.5,-105C797.95,-105 809.26,-105 819.72,-105\"/>\n",
       "<polygon fill=\"black\" stroke=\"black\" points=\"819.83,-108.5 829.83,-105 819.83,-101.5 819.83,-108.5\"/>\n",
       "</g>\n",
       "</g>\n",
       "</svg>\n",
       "</div>"
      ]
     },
     "metadata": {},
     "output_type": "display_data"
    }
   ],
   "source": [
    "visualize(()=>new AndOrRunTime)"
   ]
  },
  {
   "cell_type": "code",
   "execution_count": 28,
   "id": "false-transaction",
   "metadata": {
    "deletable": false,
    "editable": false,
    "nbgrader": {
     "cell_type": "code",
     "checksum": "17b688d068b75fdf74bba55d29f4e79c",
     "grade": true,
     "grade_id": "testAndOrRunTime",
     "locked": true,
     "points": 3,
     "schema_version": 3,
     "solution": false,
     "task": false
    }
   },
   "outputs": [
    {
     "data": {
      "text/plain": [
       "defined \u001b[32mfunction\u001b[39m \u001b[36mtestAndOrRunTime\u001b[39m"
      ]
     },
     "execution_count": 28,
     "metadata": {},
     "output_type": "execute_result"
    }
   ],
   "source": [
    "def testAndOrRunTime: Boolean = {\n",
    "    test(new AndOrRunTime) { dut =>\n",
    "        for (a <- Seq(true, false)) {\n",
    "            for (b <- Seq(true, false)) {\n",
    "                for (useAnd <- Seq(true, false)) {\n",
    "                    dut.io.a.poke(a.B)\n",
    "                    dut.io.b.poke(b.B)\n",
    "                    dut.io.useAnd.poke(useAnd.B)\n",
    "                    if (useAnd) dut.io.out.expect((a && b).B)\n",
    "                    else        dut.io.out.expect((a || b).B)\n",
    "                }\n",
    "            }\n",
    "        }\n",
    "    }\n",
    "    true\n",
    "}\n",
    "assert(testAndOrRunTime)"
   ]
  },
  {
   "cell_type": "markdown",
   "id": "infrared-engineering",
   "metadata": {
    "deletable": false,
    "editable": false,
    "nbgrader": {
     "cell_type": "markdown",
     "checksum": "16f9d5b3a625f2ec149fc2782ba65e4b",
     "grade": false,
     "grade_id": "lastConnect-header",
     "locked": true,
     "schema_version": 3,
     "solution": false,
     "task": false
    }
   },
   "source": [
    "## Problem 7 (2 pts) - Last connect semantics\n",
    "> When connecting Chisel components, the last connection made is the one that \"wins\" (exists in the generated hardware). In the module below, the default output is `5.U` because `out` is connected to `5.U` after `4.U`. Use a `when` statement to conditionally connect `10.U` to the output when the input `update` is set high, or keep the default connection when `update` is set low."
   ]
  },
  {
   "cell_type": "code",
   "execution_count": 30,
   "id": "accurate-farmer",
   "metadata": {
    "deletable": false,
    "nbgrader": {
     "cell_type": "code",
     "checksum": "b0c070b27061872fdcc548f6d47880a0",
     "grade": false,
     "grade_id": "LastConnect",
     "locked": false,
     "schema_version": 3,
     "solution": true,
     "task": false
    }
   },
   "outputs": [
    {
     "data": {
      "text/plain": [
       "defined \u001b[32mclass\u001b[39m \u001b[36mLastConnect\u001b[39m"
      ]
     },
     "execution_count": 30,
     "metadata": {},
     "output_type": "execute_result"
    }
   ],
   "source": [
    "class LastConnect extends Module {\n",
    "    val io = IO(new Bundle {\n",
    "        val update = Input(Bool())\n",
    "        val out    = Output(UInt())\n",
    "    })\n",
    "    \n",
    "    io.out := 4.U\n",
    "    io.out := 5.U\n",
    "    // YOUR CODE HERE\n",
    "    when(io.update){\n",
    "        io.out:=10.U\n",
    "    }.otherwise{\n",
    "\n",
    "    }\n",
    "    \n",
    "}"
   ]
  },
  {
   "cell_type": "code",
   "execution_count": 32,
   "id": "998affab",
   "metadata": {},
   "outputs": [
    {
     "data": {
      "text/html": [
       "<div width=\"100%\" height=\"100%\" overflow=\"scroll\"><?xml version=\"1.0\" encoding=\"UTF-8\" standalone=\"no\"?>\n",
       "<?xml-stylesheet href=\"styles.css\" type=\"text/css\"?>\n",
       "<!DOCTYPE svg PUBLIC \"-//W3C//DTD SVG 1.1//EN\"\n",
       " \"http://www.w3.org/Graphics/SVG/1.1/DTD/svg11.dtd\">\n",
       "<!-- Generated by graphviz version 2.43.0 (0)\n",
       " -->\n",
       "<!-- Title: LastConnect Pages: 1 -->\n",
       "<svg width=\"351pt\" height=\"211pt\"\n",
       " viewBox=\"0.00 0.00 351.00 210.55\" xmlns=\"http://www.w3.org/2000/svg\" xmlns:xlink=\"http://www.w3.org/1999/xlink\">\n",
       "<g id=\"graph0\" class=\"graph\" transform=\"scale(1 1) rotate(0) translate(4 206.55)\">\n",
       "<title>LastConnect</title>\n",
       "<polygon fill=\"white\" stroke=\"transparent\" points=\"-4,4 -4,-206.55 347,-206.55 347,4 -4,4\"/>\n",
       "<g id=\"clust1\" class=\"cluster\">\n",
       "<title>cluster_LastConnect</title>\n",
       "<polygon fill=\"#fff8dc\" stroke=\"black\" points=\"8,-11.55 8,-194.55 335,-194.55 335,-11.55 8,-11.55\"/>\n",
       "<text text-anchor=\"middle\" x=\"171.5\" y=\"-179.35\" font-family=\"Times,serif\" font-size=\"14.00\">LastConnect</text>\n",
       "</g>\n",
       "<!-- cluster_LastConnect_clock -->\n",
       "<g id=\"node1\" class=\"node\">\n",
       "<title>cluster_LastConnect_clock</title>\n",
       "<polygon fill=\"#cccccc\" stroke=\"black\" points=\"86,-163.55 32,-163.55 32,-127.55 86,-127.55 86,-163.55\"/>\n",
       "<text text-anchor=\"middle\" x=\"59\" y=\"-141.85\" font-family=\"Times,serif\" font-size=\"14.00\">clock</text>\n",
       "</g>\n",
       "<!-- cluster_LastConnect_reset -->\n",
       "<g id=\"node2\" class=\"node\">\n",
       "<title>cluster_LastConnect_reset</title>\n",
       "<polygon fill=\"#cccccc\" stroke=\"black\" points=\"86,-109.55 32,-109.55 32,-73.55 86,-73.55 86,-109.55\"/>\n",
       "<text text-anchor=\"middle\" x=\"59\" y=\"-87.85\" font-family=\"Times,serif\" font-size=\"14.00\">reset</text>\n",
       "</g>\n",
       "<!-- cluster_LastConnect_io_update -->\n",
       "<g id=\"node3\" class=\"node\">\n",
       "<title>cluster_LastConnect_io_update</title>\n",
       "<polygon fill=\"#cccccc\" stroke=\"black\" points=\"102,-55.55 16,-55.55 16,-19.55 102,-19.55 102,-55.55\"/>\n",
       "<text text-anchor=\"middle\" x=\"59\" y=\"-33.85\" font-family=\"Times,serif\" font-size=\"14.00\">io_update</text>\n",
       "</g>\n",
       "<!-- mux_1143619946 -->\n",
       "<g id=\"node5\" class=\"node\">\n",
       "<title>mux_1143619946</title>\n",
       "<polygon fill=\"#afeeee\" stroke=\"transparent\" points=\"146,-23.55 146,-73.55 224,-73.55 224,-23.55 146,-23.55\"/>\n",
       "<polygon fill=\"none\" stroke=\"black\" points=\"146,-48.55 146,-73.55 175,-73.55 175,-48.55 146,-48.55\"/>\n",
       "<text text-anchor=\"start\" x=\"151\" y=\"-57.35\" font-family=\"Times,serif\" font-size=\"14.00\">10</text>\n",
       "<polygon fill=\"none\" stroke=\"black\" points=\"175,-23.55 175,-73.55 201,-73.55 201,-23.55 175,-23.55\"/>\n",
       "<text text-anchor=\"start\" x=\"180\" y=\"-44.85\" font-family=\"Times,serif\" font-size=\"14.00\">a?</text>\n",
       "<polygon fill=\"none\" stroke=\"black\" points=\"201,-23.55 201,-73.55 224,-73.55 224,-23.55 201,-23.55\"/>\n",
       "<text text-anchor=\"start\" x=\"206\" y=\"-44.85\" font-family=\"Times,serif\" font-size=\"14.00\">●</text>\n",
       "<polygon fill=\"none\" stroke=\"black\" points=\"146,-23.55 146,-48.55 175,-48.55 175,-23.55 146,-23.55\"/>\n",
       "<text text-anchor=\"start\" x=\"155.5\" y=\"-32.35\" font-family=\"Times,serif\" font-size=\"14.00\">5</text>\n",
       "</g>\n",
       "<!-- cluster_LastConnect_io_update&#45;&gt;mux_1143619946 -->\n",
       "<g id=\"edge1\" class=\"edge\">\n",
       "<title>cluster_LastConnect_io_update&#45;&gt;mux_1143619946:select</title>\n",
       "<path fill=\"none\" stroke=\"black\" d=\"M96.34,-19.52C130.19,-4.51 176.83,10.94 186.29,-12.55\"/>\n",
       "<polygon fill=\"black\" stroke=\"black\" points=\"182.86,-13.29 188,-22.55 189.76,-12.1 182.86,-13.29\"/>\n",
       "</g>\n",
       "<!-- cluster_LastConnect_io_out -->\n",
       "<g id=\"node4\" class=\"node\">\n",
       "<title>cluster_LastConnect_io_out</title>\n",
       "<polygon fill=\"#e0ffff\" stroke=\"black\" points=\"327,-66.55 268,-66.55 268,-30.55 327,-30.55 327,-66.55\"/>\n",
       "<text text-anchor=\"middle\" x=\"297.5\" y=\"-44.85\" font-family=\"Times,serif\" font-size=\"14.00\">io_out</text>\n",
       "</g>\n",
       "<!-- mux_1143619946&#45;&gt;cluster_LastConnect_io_out -->\n",
       "<g id=\"edge2\" class=\"edge\">\n",
       "<title>mux_1143619946:out&#45;&gt;cluster_LastConnect_io_out</title>\n",
       "<path fill=\"none\" stroke=\"black\" d=\"M225,-48.55C235.61,-48.55 247.11,-48.55 257.72,-48.55\"/>\n",
       "<polygon fill=\"black\" stroke=\"black\" points=\"257.97,-52.05 267.97,-48.55 257.97,-45.05 257.97,-52.05\"/>\n",
       "</g>\n",
       "</g>\n",
       "</svg>\n",
       "</div>"
      ]
     },
     "metadata": {},
     "output_type": "display_data"
    }
   ],
   "source": [
    "visualize(()=>new LastConnect)"
   ]
  },
  {
   "cell_type": "code",
   "execution_count": 31,
   "id": "formal-density",
   "metadata": {
    "deletable": false,
    "editable": false,
    "nbgrader": {
     "cell_type": "code",
     "checksum": "697d4bcc8c1e6c856d5eb448bb56ee7e",
     "grade": true,
     "grade_id": "testLastConnect",
     "locked": true,
     "points": 2,
     "schema_version": 3,
     "solution": false,
     "task": false
    }
   },
   "outputs": [
    {
     "data": {
      "text/plain": [
       "defined \u001b[32mfunction\u001b[39m \u001b[36mtestLastConnect\u001b[39m"
      ]
     },
     "execution_count": 31,
     "metadata": {},
     "output_type": "execute_result"
    }
   ],
   "source": [
    "def testLastConnect: Boolean = {\n",
    "    test(new LastConnect) { dut =>\n",
    "        dut.io.update.poke(true.B)\n",
    "        dut.io.out.expect(10.U)\n",
    "        \n",
    "        dut.io.update.poke(false.B)\n",
    "        dut.io.out.expect(5.U)\n",
    "    }\n",
    "    true\n",
    "}\n",
    "assert(testLastConnect)"
   ]
  },
  {
   "cell_type": "markdown",
   "id": "modified-drinking",
   "metadata": {
    "deletable": false,
    "editable": false,
    "nbgrader": {
     "cell_type": "markdown",
     "checksum": "0d8efeda1e8ec6089d5f478f66b4d942",
     "grade": false,
     "grade_id": "relu-header",
     "locked": true,
     "schema_version": 3,
     "solution": false,
     "task": false
    }
   },
   "source": [
    "## Problem 8 (8 pts) - Simple ReLU\n",
    "> Let's put together some of these techniques to build a more complicated module. A ReLU or rectified linear unit is a function used in ML. (https://en.wikipedia.org/wiki/Rectifier_(neural_networks))\n",
    "\n",
    "> To combine everything we've learned so far we will slightly modify the function to saturate at a parameterized upper-bound of our choosing. The module will compute this function: `f(x, upper_bound) = max(0, min(x, upperBound))`.\n",
    "\n",
    "> Here is an example where we parameterize `upperBound = 3`. Note the input `x` and output `y` will be of type SInt.\n",
    "\n",
    "<img src=\"images/relu.png\" style=\"width:60%;\">"
   ]
  },
  {
   "cell_type": "code",
   "execution_count": 33,
   "id": "controlled-penguin",
   "metadata": {
    "deletable": false,
    "nbgrader": {
     "cell_type": "code",
     "checksum": "c67dc3d1e9de73019b3de254ddff2340",
     "grade": false,
     "grade_id": "relu",
     "locked": false,
     "schema_version": 3,
     "solution": true,
     "task": false
    }
   },
   "outputs": [
    {
     "data": {
      "text/plain": [
       "defined \u001b[32mclass\u001b[39m \u001b[36mReLU\u001b[39m"
      ]
     },
     "execution_count": 33,
     "metadata": {},
     "output_type": "execute_result"
    }
   ],
   "source": [
    "class ReLU(upperBound: Int) extends Module {\n",
    "    val io = IO(new Bundle {\n",
    "        val x = Input(SInt(5.W))\n",
    "        val y = Output(SInt(5.W))\n",
    "    })\n",
    "    // YOUR CODE HERE\n",
    "    when(io.x>upperBound.S){\n",
    "        io.y:=upperBound.S\n",
    "    }.elsewhen(io.x<0.S){\n",
    "        io.y:=0.S\n",
    "    }.otherwise{\n",
    "        io.y:=io.x\n",
    "    }\n",
    "    \n",
    "}"
   ]
  },
  {
   "cell_type": "code",
   "execution_count": 50,
   "id": "b9d0111d",
   "metadata": {},
   "outputs": [
    {
     "data": {
      "text/html": [
       "<div width=\"100%\" height=\"100%\" overflow=\"scroll\"><?xml version=\"1.0\" encoding=\"UTF-8\" standalone=\"no\"?>\n",
       "<?xml-stylesheet href=\"styles.css\" type=\"text/css\"?>\n",
       "<!DOCTYPE svg PUBLIC \"-//W3C//DTD SVG 1.1//EN\"\n",
       " \"http://www.w3.org/Graphics/SVG/1.1/DTD/svg11.dtd\">\n",
       "<!-- Generated by graphviz version 2.43.0 (0)\n",
       " -->\n",
       "<!-- Title: ReLU Pages: 1 -->\n",
       "<svg width=\"565pt\" height=\"217pt\"\n",
       " viewBox=\"0.00 0.00 565.00 217.00\" xmlns=\"http://www.w3.org/2000/svg\" xmlns:xlink=\"http://www.w3.org/1999/xlink\">\n",
       "<g id=\"graph0\" class=\"graph\" transform=\"scale(1 1) rotate(0) translate(4 213)\">\n",
       "<title>ReLU</title>\n",
       "<polygon fill=\"white\" stroke=\"transparent\" points=\"-4,4 -4,-213 561,-213 561,4 -4,4\"/>\n",
       "<g id=\"clust1\" class=\"cluster\">\n",
       "<title>cluster_ReLU</title>\n",
       "<polygon fill=\"#fff8dc\" stroke=\"black\" points=\"8,-8 8,-201 549,-201 549,-8 8,-8\"/>\n",
       "<text text-anchor=\"middle\" x=\"278.5\" y=\"-185.8\" font-family=\"Times,serif\" font-size=\"14.00\">ReLU</text>\n",
       "</g>\n",
       "<!-- cluster_ReLU_clock -->\n",
       "<g id=\"node1\" class=\"node\">\n",
       "<title>cluster_ReLU_clock</title>\n",
       "<polygon fill=\"#cccccc\" stroke=\"black\" points=\"70,-170 16,-170 16,-134 70,-134 70,-170\"/>\n",
       "<text text-anchor=\"middle\" x=\"43\" y=\"-148.3\" font-family=\"Times,serif\" font-size=\"14.00\">clock</text>\n",
       "</g>\n",
       "<!-- cluster_ReLU_reset -->\n",
       "<g id=\"node2\" class=\"node\">\n",
       "<title>cluster_ReLU_reset</title>\n",
       "<polygon fill=\"#cccccc\" stroke=\"black\" points=\"70,-116 16,-116 16,-80 70,-80 70,-116\"/>\n",
       "<text text-anchor=\"middle\" x=\"43\" y=\"-94.3\" font-family=\"Times,serif\" font-size=\"14.00\">reset</text>\n",
       "</g>\n",
       "<!-- cluster_ReLU_io_x -->\n",
       "<g id=\"node3\" class=\"node\">\n",
       "<title>cluster_ReLU_io_x</title>\n",
       "<polygon fill=\"#cccccc\" stroke=\"black\" points=\"70,-62 16,-62 16,-26 70,-26 70,-62\"/>\n",
       "<text text-anchor=\"middle\" x=\"43\" y=\"-40.3\" font-family=\"Times,serif\" font-size=\"14.00\">io_x</text>\n",
       "</g>\n",
       "<!-- op_gt_18 -->\n",
       "<g id=\"node6\" class=\"node\">\n",
       "<title>op_gt_18</title>\n",
       "<polygon fill=\"#d8bfd8\" stroke=\"transparent\" points=\"114,-116 114,-166 195,-166 195,-116 114,-116\"/>\n",
       "<polygon fill=\"none\" stroke=\"black\" points=\"114.5,-141 114.5,-166 137.5,-166 137.5,-141 114.5,-141\"/>\n",
       "<text text-anchor=\"start\" x=\"119.5\" y=\"-149.8\" font-family=\"Times,serif\" font-size=\"14.00\">●</text>\n",
       "<polygon fill=\"none\" stroke=\"black\" points=\"137.5,-116 137.5,-166 172.5,-166 172.5,-116 137.5,-116\"/>\n",
       "<text text-anchor=\"start\" x=\"142.5\" y=\"-137.3\" font-family=\"Times,serif\" font-size=\"14.00\"> gt </text>\n",
       "<polygon fill=\"none\" stroke=\"black\" points=\"172.5,-116 172.5,-166 195.5,-166 195.5,-116 172.5,-116\"/>\n",
       "<text text-anchor=\"start\" x=\"177.5\" y=\"-137.3\" font-family=\"Times,serif\" font-size=\"14.00\">●</text>\n",
       "<polygon fill=\"none\" stroke=\"black\" points=\"114.5,-116 114.5,-141 137.5,-141 137.5,-116 114.5,-116\"/>\n",
       "<text text-anchor=\"start\" x=\"121\" y=\"-124.8\" font-family=\"Times,serif\" font-size=\"14.00\">2</text>\n",
       "</g>\n",
       "<!-- cluster_ReLU_io_x&#45;&gt;op_gt_18 -->\n",
       "<g id=\"edge2\" class=\"edge\">\n",
       "<title>cluster_ReLU_io_x&#45;&gt;op_gt_18:in1</title>\n",
       "<path fill=\"none\" stroke=\"black\" d=\"M62.91,-62.28C65.43,-65.09 67.87,-68.04 70,-71 92.07,-101.62 75.66,-144.91 103.39,-152.76\"/>\n",
       "<polygon fill=\"black\" stroke=\"black\" points=\"103.15,-156.25 113.5,-154 104,-149.3 103.15,-156.25\"/>\n",
       "</g>\n",
       "<!-- mux_616895721 -->\n",
       "<g id=\"node8\" class=\"node\">\n",
       "<title>mux_616895721</title>\n",
       "<polygon fill=\"#afeeee\" stroke=\"transparent\" points=\"247,-40 247,-90 319,-90 319,-40 247,-40\"/>\n",
       "<polygon fill=\"none\" stroke=\"black\" points=\"247,-65 247,-90 270,-90 270,-65 247,-65\"/>\n",
       "<text text-anchor=\"start\" x=\"253.5\" y=\"-73.8\" font-family=\"Times,serif\" font-size=\"14.00\">0</text>\n",
       "<polygon fill=\"none\" stroke=\"black\" points=\"270,-40 270,-90 296,-90 296,-40 270,-40\"/>\n",
       "<text text-anchor=\"start\" x=\"275\" y=\"-61.3\" font-family=\"Times,serif\" font-size=\"14.00\">a?</text>\n",
       "<polygon fill=\"none\" stroke=\"black\" points=\"296,-40 296,-90 319,-90 319,-40 296,-40\"/>\n",
       "<text text-anchor=\"start\" x=\"301\" y=\"-61.3\" font-family=\"Times,serif\" font-size=\"14.00\">●</text>\n",
       "<polygon fill=\"none\" stroke=\"black\" points=\"247,-40 247,-65 270,-65 270,-40 247,-40\"/>\n",
       "<text text-anchor=\"start\" x=\"252\" y=\"-48.8\" font-family=\"Times,serif\" font-size=\"14.00\">●</text>\n",
       "</g>\n",
       "<!-- cluster_ReLU_io_x&#45;&gt;mux_616895721 -->\n",
       "<g id=\"edge6\" class=\"edge\">\n",
       "<title>cluster_ReLU_io_x&#45;&gt;mux_616895721:in2</title>\n",
       "<path fill=\"none\" stroke=\"black\" d=\"M70.23,-35.14C81.15,-31.89 94.05,-28.61 106,-27 148.73,-21.25 161.37,-15.78 203,-27 220.51,-31.72 223.35,-45.52 236.01,-50.33\"/>\n",
       "<polygon fill=\"black\" stroke=\"black\" points=\"235.56,-53.8 246,-52 236.72,-46.9 235.56,-53.8\"/>\n",
       "</g>\n",
       "<!-- op_lt_19 -->\n",
       "<g id=\"node9\" class=\"node\">\n",
       "<title>op_lt_19</title>\n",
       "<polygon fill=\"#d8bfd8\" stroke=\"transparent\" points=\"116.5,-40 116.5,-90 192.5,-90 192.5,-40 116.5,-40\"/>\n",
       "<polygon fill=\"none\" stroke=\"black\" points=\"116.5,-65 116.5,-90 139.5,-90 139.5,-65 116.5,-65\"/>\n",
       "<text text-anchor=\"start\" x=\"121.5\" y=\"-73.8\" font-family=\"Times,serif\" font-size=\"14.00\">●</text>\n",
       "<polygon fill=\"none\" stroke=\"black\" points=\"139.5,-40 139.5,-90 169.5,-90 169.5,-40 139.5,-40\"/>\n",
       "<text text-anchor=\"start\" x=\"144.5\" y=\"-61.3\" font-family=\"Times,serif\" font-size=\"14.00\"> lt </text>\n",
       "<polygon fill=\"none\" stroke=\"black\" points=\"169.5,-40 169.5,-90 192.5,-90 192.5,-40 169.5,-40\"/>\n",
       "<text text-anchor=\"start\" x=\"174.5\" y=\"-61.3\" font-family=\"Times,serif\" font-size=\"14.00\">●</text>\n",
       "<polygon fill=\"none\" stroke=\"black\" points=\"116.5,-40 116.5,-65 139.5,-65 139.5,-40 116.5,-40\"/>\n",
       "<text text-anchor=\"start\" x=\"123\" y=\"-48.8\" font-family=\"Times,serif\" font-size=\"14.00\">0</text>\n",
       "</g>\n",
       "<!-- cluster_ReLU_io_x&#45;&gt;op_lt_19 -->\n",
       "<g id=\"edge4\" class=\"edge\">\n",
       "<title>cluster_ReLU_io_x&#45;&gt;op_lt_19:in1</title>\n",
       "<path fill=\"none\" stroke=\"black\" d=\"M68.48,-62.19C79.02,-68.64 91.97,-74.85 105.28,-77.11\"/>\n",
       "<polygon fill=\"black\" stroke=\"black\" points=\"105.23,-80.61 115.5,-78 105.84,-73.64 105.23,-80.61\"/>\n",
       "</g>\n",
       "<!-- cluster_ReLU_io_y -->\n",
       "<g id=\"node4\" class=\"node\">\n",
       "<title>cluster_ReLU_io_y</title>\n",
       "<polygon fill=\"#e0ffff\" stroke=\"black\" points=\"541,-124 487,-124 487,-88 541,-88 541,-124\"/>\n",
       "<text text-anchor=\"middle\" x=\"514\" y=\"-102.3\" font-family=\"Times,serif\" font-size=\"14.00\">io_y</text>\n",
       "</g>\n",
       "<!-- cluster_ReLU__T -->\n",
       "<g id=\"node5\" class=\"node\">\n",
       "<title>cluster_ReLU__T</title>\n",
       "<polygon fill=\"none\" stroke=\"black\" points=\"310,-153 256,-153 256,-117 310,-117 310,-153\"/>\n",
       "<text text-anchor=\"middle\" x=\"283\" y=\"-131.3\" font-family=\"Times,serif\" font-size=\"14.00\">_T</text>\n",
       "</g>\n",
       "<!-- mux_1296417078 -->\n",
       "<g id=\"node7\" class=\"node\">\n",
       "<title>mux_1296417078</title>\n",
       "<polygon fill=\"#afeeee\" stroke=\"transparent\" points=\"371,-81 371,-131 443,-131 443,-81 371,-81\"/>\n",
       "<polygon fill=\"none\" stroke=\"black\" points=\"371,-106 371,-131 394,-131 394,-106 371,-106\"/>\n",
       "<text text-anchor=\"start\" x=\"377.5\" y=\"-114.8\" font-family=\"Times,serif\" font-size=\"14.00\">2</text>\n",
       "<polygon fill=\"none\" stroke=\"black\" points=\"394,-81 394,-131 420,-131 420,-81 394,-81\"/>\n",
       "<text text-anchor=\"start\" x=\"399\" y=\"-102.3\" font-family=\"Times,serif\" font-size=\"14.00\">a?</text>\n",
       "<polygon fill=\"none\" stroke=\"black\" points=\"420,-81 420,-131 443,-131 443,-81 420,-81\"/>\n",
       "<text text-anchor=\"start\" x=\"425\" y=\"-102.3\" font-family=\"Times,serif\" font-size=\"14.00\">●</text>\n",
       "<polygon fill=\"none\" stroke=\"black\" points=\"371,-81 371,-106 394,-106 394,-81 371,-81\"/>\n",
       "<text text-anchor=\"start\" x=\"376\" y=\"-89.8\" font-family=\"Times,serif\" font-size=\"14.00\">●</text>\n",
       "</g>\n",
       "<!-- cluster_ReLU__T&#45;&gt;mux_1296417078 -->\n",
       "<g id=\"edge1\" class=\"edge\">\n",
       "<title>cluster_ReLU__T&#45;&gt;mux_1296417078:select</title>\n",
       "<path fill=\"none\" stroke=\"black\" d=\"M310.09,-144.53C342.52,-155.12 394.9,-167.6 405.21,-142.15\"/>\n",
       "<polygon fill=\"black\" stroke=\"black\" points=\"408.71,-142.46 407,-132 401.81,-141.24 408.71,-142.46\"/>\n",
       "</g>\n",
       "<!-- op_gt_18&#45;&gt;cluster_ReLU__T -->\n",
       "<g id=\"edge7\" class=\"edge\">\n",
       "<title>op_gt_18:out&#45;&gt;cluster_ReLU__T</title>\n",
       "<path fill=\"none\" stroke=\"black\" d=\"M196.5,-141C212.7,-141 230.59,-139.91 245.79,-138.67\"/>\n",
       "<polygon fill=\"black\" stroke=\"black\" points=\"246.18,-142.15 255.84,-137.79 245.57,-135.17 246.18,-142.15\"/>\n",
       "</g>\n",
       "<!-- mux_1296417078&#45;&gt;cluster_ReLU_io_y -->\n",
       "<g id=\"edge5\" class=\"edge\">\n",
       "<title>mux_1296417078:out&#45;&gt;cluster_ReLU_io_y</title>\n",
       "<path fill=\"none\" stroke=\"black\" d=\"M444,-106C454.6,-106 466.12,-106 476.65,-106\"/>\n",
       "<polygon fill=\"black\" stroke=\"black\" points=\"476.79,-109.5 486.79,-106 476.79,-102.5 476.79,-109.5\"/>\n",
       "</g>\n",
       "<!-- mux_616895721&#45;&gt;mux_1296417078 -->\n",
       "<g id=\"edge3\" class=\"edge\">\n",
       "<title>mux_616895721:out&#45;&gt;mux_1296417078:in2</title>\n",
       "<path fill=\"none\" stroke=\"black\" d=\"M320,-65C341.49,-65 344.18,-84.93 359.79,-91.16\"/>\n",
       "<polygon fill=\"black\" stroke=\"black\" points=\"359.54,-94.67 370,-93 360.78,-87.78 359.54,-94.67\"/>\n",
       "</g>\n",
       "<!-- op_lt_19&#45;&gt;mux_616895721 -->\n",
       "<g id=\"edge8\" class=\"edge\">\n",
       "<title>op_lt_19:out&#45;&gt;mux_616895721:select</title>\n",
       "<path fill=\"none\" stroke=\"black\" d=\"M193.5,-65C216.57,-65 216.72,-45.99 239,-40 252.87,-36.27 270.1,-26.93 278.27,-29.98\"/>\n",
       "<polygon fill=\"black\" stroke=\"black\" points=\"275.26,-31.77 283,-39 281.46,-28.52 275.26,-31.77\"/>\n",
       "</g>\n",
       "</g>\n",
       "</svg>\n",
       "</div>"
      ]
     },
     "metadata": {},
     "output_type": "display_data"
    }
   ],
   "source": [
    "visualize (()=>new ReLU(2))"
   ]
  },
  {
   "cell_type": "markdown",
   "id": "roman-edmonton",
   "metadata": {
    "deletable": false,
    "editable": false,
    "nbgrader": {
     "cell_type": "markdown",
     "checksum": "5a4516d8a4d3ff261344971a6a38921d",
     "grade": false,
     "grade_id": "testrelu-header",
     "locked": true,
     "schema_version": 3,
     "solution": false,
     "task": false
    }
   },
   "source": [
    "### Testing ReLU\n",
    "> Write your own test for `ReLU` that tests `x` at input values `-1, 0, 1, 15`. The test (`testReLU`) is parameterized by `upperBound`, and you can assume `upperBound` is non-negative. The module should return `true` if and only if all calls to `dut.io.y.expect(...)` succeed."
   ]
  },
  {
   "cell_type": "code",
   "execution_count": 43,
   "id": "included-disclaimer",
   "metadata": {
    "deletable": false,
    "nbgrader": {
     "cell_type": "code",
     "checksum": "ec0600818b8574423d150b31c961a3f8",
     "grade": false,
     "grade_id": "testReLu",
     "locked": false,
     "schema_version": 3,
     "solution": true,
     "task": false
    }
   },
   "outputs": [
    {
     "data": {
      "text/plain": [
       "defined \u001b[32mfunction\u001b[39m \u001b[36mtestReLU\u001b[39m"
      ]
     },
     "execution_count": 43,
     "metadata": {},
     "output_type": "execute_result"
    }
   ],
   "source": [
    "def testReLU(upperBound: Int): Boolean = {\n",
    "    require(upperBound >= 0)\n",
    "    test(new ReLU(upperBound)) { dut =>\n",
    "        \n",
    "    // YOUR CODE HERE\n",
    "    dut.io.x.poke(-1)\n",
    "    dut.io.y.expect(0)\n",
    "\n",
    "    dut.io.x.poke(0)\n",
    "    dut.io.y.expect(0)\n",
    "\n",
    "    dut.io.x.poke(1)\n",
    "    if(upperBound>1){\n",
    "        dut.io.y.expect(1)\n",
    "    }\n",
    "    else{\n",
    "        dut.io.y.expect(upperBound)\n",
    "    }\n",
    "\n",
    "    dut.io.x.poke(15)\n",
    "    if(upperBound>15){\n",
    "        dut.io.y.expect(15)\n",
    "    }\n",
    "    else{\n",
    "        dut.io.y.expect(upperBound)\n",
    "    }\n",
    "\n",
    "    }\n",
    "    true\n",
    "}\n"
   ]
  },
  {
   "cell_type": "code",
   "execution_count": 45,
   "id": "adjacent-fifth",
   "metadata": {
    "deletable": false,
    "editable": false,
    "nbgrader": {
     "cell_type": "code",
     "checksum": "2479744fd1d2f62c3d29fbd0420869b9",
     "grade": true,
     "grade_id": "testRelu",
     "locked": true,
     "points": 8,
     "schema_version": 3,
     "solution": false,
     "task": false
    }
   },
   "outputs": [
    {
     "name": "stdout",
     "output_type": "stream",
     "text": [
      "Testing ReLu, upperBound=0\n",
      "Testing ReLu, upperBound=1\n",
      "Testing ReLu, upperBound=2\n",
      "Testing ReLu, upperBound=3\n",
      "Testing ReLu, upperBound=4\n",
      "Testing ReLu, upperBound=5\n",
      "Testing ReLu, upperBound=6\n",
      "Testing ReLu, upperBound=7\n",
      "Testing ReLu, upperBound=8\n",
      "Testing ReLu, upperBound=9\n",
      "Testing ReLu, upperBound=10\n",
      "Testing ReLu, upperBound=11\n",
      "Testing ReLu, upperBound=12\n",
      "Testing ReLu, upperBound=13\n",
      "Testing ReLu, upperBound=14\n",
      "Testing ReLu, upperBound=15\n"
     ]
    }
   ],
   "source": [
    "for(upperBound <- 0 until 16) {\n",
    "    println(s\"Testing ReLu, upperBound=$upperBound\")\n",
    "    assert(testReLU(upperBound))\n",
    "}"
   ]
  }
 ],
 "metadata": {
  "kernelspec": {
   "display_name": "Scala",
   "language": "scala",
   "name": "scala"
  },
  "language_info": {
   "codemirror_mode": "text/x-scala",
   "file_extension": ".sc",
   "mimetype": "text/x-scala",
   "name": "scala",
   "nbconvert_exporter": "script",
   "version": "2.13.10"
  }
 },
 "nbformat": 4,
 "nbformat_minor": 5
}
