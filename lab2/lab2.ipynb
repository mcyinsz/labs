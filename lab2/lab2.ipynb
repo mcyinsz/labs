{
 "cells": [
  {
   "cell_type": "markdown",
   "id": "3bbcd736-d66c-46fa-bea7-c2d8b95875ab",
   "metadata": {
    "deletable": false,
    "editable": false,
    "nbgrader": {
     "cell_type": "markdown",
     "checksum": "a0f3da7949b7e3b352257024327de74f",
     "grade": false,
     "grade_id": "name-header",
     "locked": true,
     "schema_version": 3,
     "solution": false,
     "task": false
    }
   },
   "source": [
    "Before you turn this lab in, make sure everything runs as expected. First, **restart the kernel** (in the menubar, select Kernel$\\rightarrow$Restart) and then **run all cells** (in the menubar, select Cell$\\rightarrow$Run All).\n",
    "\n",
    "Make sure you fill in any place that says `YOUR CODE HERE` or \"YOUR ANSWER HERE\".\n",
    "\n",
    "**Provide your name and any collaborators below:**"
   ]
  },
  {
   "cell_type": "markdown",
   "id": "63b2e09c-5aff-419f-8ae9-0b764ae4be9e",
   "metadata": {
    "deletable": false,
    "nbgrader": {
     "cell_type": "markdown",
     "checksum": "14d52740faa5ccc0b543add03d8ebf6b",
     "grade": true,
     "grade_id": "name-collabs",
     "locked": false,
     "points": 0,
     "schema_version": 3,
     "solution": true,
     "task": false
    }
   },
   "source": [
    "YOUR ANSWER HERE"
   ]
  },
  {
   "cell_type": "markdown",
   "id": "thick-battery",
   "metadata": {
    "cell_style": "center",
    "deletable": false,
    "editable": false,
    "nbgrader": {
     "cell_type": "markdown",
     "checksum": "83af090313da5c3471fc4a823926590d",
     "grade": false,
     "grade_id": "header",
     "locked": true,
     "schema_version": 3,
     "solution": false,
     "task": false
    },
    "slideshow": {
     "slide_type": "slide"
    }
   },
   "source": [
    "# Lab 2 Sequential Logic\n",
    "> Labs will be due each week before the homework. They are not intended take a significant amount of time but rather to provide examples/practice on specific and isolated features in the language. Labs are autograded so you can get quick feedback."
   ]
  },
  {
   "cell_type": "markdown",
   "id": "dramatic-checklist",
   "metadata": {
    "deletable": false,
    "editable": false,
    "nbgrader": {
     "cell_type": "markdown",
     "checksum": "9f555f0f7ac7048748fcf1a467a08721",
     "grade": false,
     "grade_id": "imports-header",
     "locked": true,
     "schema_version": 3,
     "solution": false,
     "task": false
    }
   },
   "source": [
    "### Import the necessary Chisel dependencies. \n",
    "> There will be a cell like this in every lab. Make sure you run it before proceeding to bring the Chisel Library into the Jupyter Notebook scope!"
   ]
  },
  {
   "cell_type": "code",
   "execution_count": 1,
   "id": "imposed-egypt",
   "metadata": {
    "deletable": false,
    "editable": false,
    "nbgrader": {
     "cell_type": "code",
     "checksum": "4b2df45a1a068e28c4eb74c45b53774e",
     "grade": false,
     "grade_id": "imports1",
     "locked": true,
     "schema_version": 3,
     "solution": false,
     "task": false
    }
   },
   "outputs": [],
   "source": [
    "interp.load.module(os.Path(s\"${System.getProperty(\"user.dir\")}/resource/chisel_deps.sc\"))"
   ]
  },
  {
   "cell_type": "code",
   "execution_count": 2,
   "id": "respiratory-board",
   "metadata": {
    "deletable": false,
    "editable": false,
    "nbgrader": {
     "cell_type": "code",
     "checksum": "901d9fdacbe59a9692672c167d68ce88",
     "grade": false,
     "grade_id": "imports",
     "locked": true,
     "schema_version": 3,
     "solution": false,
     "task": false
    }
   },
   "outputs": [
    {
     "data": {
      "text/plain": [
       "\u001b[32mimport \u001b[39m\u001b[36mchisel3._\n",
       "\u001b[39m\n",
       "\u001b[32mimport \u001b[39m\u001b[36mchisel3.util._\n",
       "\u001b[39m\n",
       "\u001b[32mimport \u001b[39m\u001b[36mchiseltest._\n",
       "\u001b[39m\n",
       "\u001b[32mimport \u001b[39m\u001b[36mchiseltest.RawTester.test\u001b[39m"
      ]
     },
     "execution_count": 2,
     "metadata": {},
     "output_type": "execute_result"
    }
   ],
   "source": [
    "import chisel3._\n",
    "import chisel3.util._\n",
    "import chiseltest._\n",
    "import chiseltest.RawTester.test"
   ]
  },
  {
   "cell_type": "markdown",
   "id": "sharp-desperate",
   "metadata": {
    "deletable": false,
    "editable": false,
    "nbgrader": {
     "cell_type": "markdown",
     "checksum": "2e18601908f9b79b143461ca283ebc9d",
     "grade": false,
     "grade_id": "register-header",
     "locked": true,
     "schema_version": 3,
     "solution": false,
     "task": false
    }
   },
   "source": [
    "## Problem 1 (2 pts) - State\n",
    "> We can use registers to store state across multiple cycles. In Chisel, to build registers we use `Reg` as well as `RegNext` and `RegInit` ([more info](https://www.chisel-lang.org/chisel3/docs/explanations/sequential-circuits.html)). Fill in the `Delay2` module such that `out` signal is equal to the `in` signal delayed by 2 cycles."
   ]
  },
  {
   "cell_type": "code",
   "execution_count": 3,
   "id": "damaged-asbestos",
   "metadata": {
    "deletable": false,
    "nbgrader": {
     "cell_type": "code",
     "checksum": "2510ffc5837458a4086ba03c17f22c91",
     "grade": false,
     "grade_id": "delay2",
     "locked": false,
     "schema_version": 3,
     "solution": true,
     "task": false
    }
   },
   "outputs": [
    {
     "data": {
      "text/plain": [
       "defined \u001b[32mclass\u001b[39m \u001b[36mDelay2\u001b[39m"
      ]
     },
     "execution_count": 3,
     "metadata": {},
     "output_type": "execute_result"
    }
   ],
   "source": [
    "class Delay2 extends Module {\n",
    "    val io = IO(new Bundle {\n",
    "        val in  = Input(UInt(5.W))\n",
    "        val out = Output(UInt(5.W))\n",
    "    })\n",
    "    \n",
    "    // YOUR CODE HERE\n",
    "    val d1 = RegNext(io.in)\n",
    "    val d2 = RegNext(d1)\n",
    "    io.out:=d2\n",
    "}"
   ]
  },
  {
   "cell_type": "code",
   "execution_count": 4,
   "id": "embedded-division",
   "metadata": {
    "deletable": false,
    "editable": false,
    "nbgrader": {
     "cell_type": "code",
     "checksum": "f1f9a1d618da2416d2a5289d75b86521",
     "grade": true,
     "grade_id": "test-delay2",
     "locked": true,
     "points": 2,
     "schema_version": 3,
     "solution": false,
     "task": false
    }
   },
   "outputs": [
    {
     "data": {
      "text/plain": [
       "defined \u001b[32mfunction\u001b[39m \u001b[36mtestDelay2\u001b[39m"
      ]
     },
     "execution_count": 4,
     "metadata": {},
     "output_type": "execute_result"
    }
   ],
   "source": [
    "def testDelay2: Boolean = {\n",
    "    test(new Delay2) { dut =>\n",
    "        // Cycle0\n",
    "        dut.io.in.poke(5.U)\n",
    "        dut.io.out.expect(0.U)\n",
    "        dut.clock.step(1)\n",
    "\n",
    "        // Cycle1\n",
    "        dut.io.in.poke(4.U)\n",
    "        dut.io.out.expect(0.U)\n",
    "        dut.clock.step(1)\n",
    "\n",
    "        // Cycle2\n",
    "        dut.io.in.poke(3.U)\n",
    "        dut.io.out.expect(5.U)\n",
    "        dut.clock.step(1)\n",
    "\n",
    "        // Cycle3\n",
    "        dut.io.out.expect(4.U)\n",
    "        dut.clock.step(1)\n",
    "\n",
    "        // Cycle4\n",
    "        dut.io.out.expect(3.U)\n",
    "        dut.clock.step(1)\n",
    "    }\n",
    "    true\n",
    "}\n",
    "assert(testDelay2)"
   ]
  },
  {
   "cell_type": "markdown",
   "id": "unlike-novelty",
   "metadata": {
    "deletable": false,
    "editable": false,
    "nbgrader": {
     "cell_type": "markdown",
     "checksum": "a96f741f0e1ab10e5e401e45cc01efee",
     "grade": false,
     "grade_id": "accum-header",
     "locked": true,
     "schema_version": 3,
     "solution": false,
     "task": false
    }
   },
   "source": [
    "## Problem 2 (3 pts) - Accumulator\n",
    "> Let's build an _accumulator_. Each cycle `en` is high, it will add `in` to it's internal total. The internal total is visible as the output `out`. The internal total should initialize to 0 on reset."
   ]
  },
  {
   "cell_type": "code",
   "execution_count": 5,
   "id": "relative-simulation",
   "metadata": {
    "deletable": false,
    "nbgrader": {
     "cell_type": "code",
     "checksum": "a524d73d5a1264e27c9fa8f5158e2e87",
     "grade": false,
     "grade_id": "Accumulator",
     "locked": false,
     "schema_version": 3,
     "solution": true,
     "task": false
    }
   },
   "outputs": [
    {
     "data": {
      "text/plain": [
       "defined \u001b[32mclass\u001b[39m \u001b[36mAccumulator\u001b[39m"
      ]
     },
     "execution_count": 5,
     "metadata": {},
     "output_type": "execute_result"
    }
   ],
   "source": [
    "class Accumulator(w: Int) extends Module {\n",
    "    val io = IO(new Bundle {\n",
    "        val in  = Input(UInt(w.W))\n",
    "        val en  = Input(Bool())\n",
    "        val out = Output(UInt(w.W))\n",
    "    })\n",
    "\n",
    "    val acc= RegEnable(io.out+io.in,0.U,io.en)\n",
    "    io.out := acc\n",
    "    \n",
    "}"
   ]
  },
  {
   "cell_type": "code",
   "execution_count": 6,
   "id": "ea469934",
   "metadata": {},
   "outputs": [
    {
     "data": {
      "text/html": [
       "<div width=\"100%\" height=\"100%\" overflow=\"scroll\"><?xml version=\"1.0\" encoding=\"UTF-8\" standalone=\"no\"?>\n",
       "<?xml-stylesheet href=\"styles.css\" type=\"text/css\"?>\n",
       "<!DOCTYPE svg PUBLIC \"-//W3C//DTD SVG 1.1//EN\"\n",
       " \"http://www.w3.org/Graphics/SVG/1.1/DTD/svg11.dtd\">\n",
       "<!-- Generated by graphviz version 2.43.0 (0)\n",
       " -->\n",
       "<!-- Title: Accumulator Pages: 1 -->\n",
       "<svg width=\"1066pt\" height=\"225pt\"\n",
       " viewBox=\"0.00 0.00 1066.00 224.53\" xmlns=\"http://www.w3.org/2000/svg\" xmlns:xlink=\"http://www.w3.org/1999/xlink\">\n",
       "<g id=\"graph0\" class=\"graph\" transform=\"scale(1 1) rotate(0) translate(4 220.53)\">\n",
       "<title>Accumulator</title>\n",
       "<polygon fill=\"white\" stroke=\"transparent\" points=\"-4,4 -4,-220.53 1062,-220.53 1062,4 -4,4\"/>\n",
       "<g id=\"clust1\" class=\"cluster\">\n",
       "<title>cluster_Accumulator</title>\n",
       "<polygon fill=\"#fff8dc\" stroke=\"black\" points=\"8,-39.53 8,-208.53 1050,-208.53 1050,-39.53 8,-39.53\"/>\n",
       "<text text-anchor=\"middle\" x=\"529\" y=\"-193.33\" font-family=\"Times,serif\" font-size=\"14.00\">Accumulator</text>\n",
       "</g>\n",
       "<!-- cluster_Accumulator_clock -->\n",
       "<g id=\"node1\" class=\"node\">\n",
       "<title>cluster_Accumulator_clock</title>\n",
       "<polygon fill=\"#cccccc\" stroke=\"black\" points=\"70,-166.53 16,-166.53 16,-130.53 70,-130.53 70,-166.53\"/>\n",
       "<text text-anchor=\"middle\" x=\"43\" y=\"-144.83\" font-family=\"Times,serif\" font-size=\"14.00\">clock</text>\n",
       "</g>\n",
       "<!-- cluster_Accumulator_reset -->\n",
       "<g id=\"node2\" class=\"node\">\n",
       "<title>cluster_Accumulator_reset</title>\n",
       "<polygon fill=\"#cccccc\" stroke=\"black\" points=\"70,-98.53 16,-98.53 16,-62.53 70,-62.53 70,-98.53\"/>\n",
       "<text text-anchor=\"middle\" x=\"43\" y=\"-76.83\" font-family=\"Times,serif\" font-size=\"14.00\">reset</text>\n",
       "</g>\n",
       "<!-- mux_1160241772 -->\n",
       "<g id=\"node11\" class=\"node\">\n",
       "<title>mux_1160241772</title>\n",
       "<polygon fill=\"#afeeee\" stroke=\"transparent\" points=\"114,-55.53 114,-105.53 186,-105.53 186,-55.53 114,-55.53\"/>\n",
       "<polygon fill=\"none\" stroke=\"black\" points=\"114,-80.53 114,-105.53 137,-105.53 137,-80.53 114,-80.53\"/>\n",
       "<text text-anchor=\"start\" x=\"120.5\" y=\"-89.33\" font-family=\"Times,serif\" font-size=\"14.00\">0</text>\n",
       "<polygon fill=\"none\" stroke=\"black\" points=\"137,-55.53 137,-105.53 163,-105.53 163,-55.53 137,-55.53\"/>\n",
       "<text text-anchor=\"start\" x=\"142\" y=\"-76.83\" font-family=\"Times,serif\" font-size=\"14.00\">a?</text>\n",
       "<polygon fill=\"none\" stroke=\"black\" points=\"163,-55.53 163,-105.53 186,-105.53 186,-55.53 163,-55.53\"/>\n",
       "<text text-anchor=\"start\" x=\"168\" y=\"-76.83\" font-family=\"Times,serif\" font-size=\"14.00\">●</text>\n",
       "<polygon fill=\"none\" stroke=\"black\" points=\"114,-55.53 114,-80.53 137,-80.53 137,-55.53 114,-55.53\"/>\n",
       "<text text-anchor=\"start\" x=\"119\" y=\"-64.33\" font-family=\"Times,serif\" font-size=\"14.00\">●</text>\n",
       "</g>\n",
       "<!-- cluster_Accumulator_reset&#45;&gt;mux_1160241772 -->\n",
       "<g id=\"edge10\" class=\"edge\">\n",
       "<title>cluster_Accumulator_reset&#45;&gt;mux_1160241772:select</title>\n",
       "<path fill=\"none\" stroke=\"black\" d=\"M70.2,-63.76C97.67,-47.47 138.16,-27.52 147.86,-44.75\"/>\n",
       "<polygon fill=\"black\" stroke=\"black\" points=\"144.44,-45.51 150,-54.53 151.28,-44.01 144.44,-45.51\"/>\n",
       "</g>\n",
       "<!-- cluster_Accumulator_io_in -->\n",
       "<g id=\"node3\" class=\"node\">\n",
       "<title>cluster_Accumulator_io_in</title>\n",
       "<polygon fill=\"#cccccc\" stroke=\"black\" points=\"418.5,-123.53 364.5,-123.53 364.5,-87.53 418.5,-87.53 418.5,-123.53\"/>\n",
       "<text text-anchor=\"middle\" x=\"391.5\" y=\"-101.83\" font-family=\"Times,serif\" font-size=\"14.00\">io_in</text>\n",
       "</g>\n",
       "<!-- op_add_1 -->\n",
       "<g id=\"node7\" class=\"node\">\n",
       "<title>op_add_1</title>\n",
       "<polygon fill=\"#d8bfd8\" stroke=\"transparent\" points=\"465,-121.53 465,-171.53 557,-171.53 557,-121.53 465,-121.53\"/>\n",
       "<polygon fill=\"none\" stroke=\"black\" points=\"465,-146.53 465,-171.53 488,-171.53 488,-146.53 465,-146.53\"/>\n",
       "<text text-anchor=\"start\" x=\"470\" y=\"-155.33\" font-family=\"Times,serif\" font-size=\"14.00\">●</text>\n",
       "<polygon fill=\"none\" stroke=\"black\" points=\"488,-121.53 488,-171.53 534,-171.53 534,-121.53 488,-121.53\"/>\n",
       "<text text-anchor=\"start\" x=\"493\" y=\"-142.83\" font-family=\"Times,serif\" font-size=\"14.00\"> add </text>\n",
       "<polygon fill=\"none\" stroke=\"black\" points=\"534,-121.53 534,-171.53 557,-171.53 557,-121.53 534,-121.53\"/>\n",
       "<text text-anchor=\"start\" x=\"539\" y=\"-142.83\" font-family=\"Times,serif\" font-size=\"14.00\">●</text>\n",
       "<polygon fill=\"none\" stroke=\"black\" points=\"465,-121.53 465,-146.53 488,-146.53 488,-121.53 465,-121.53\"/>\n",
       "<text text-anchor=\"start\" x=\"470\" y=\"-130.33\" font-family=\"Times,serif\" font-size=\"14.00\">●</text>\n",
       "</g>\n",
       "<!-- cluster_Accumulator_io_in&#45;&gt;op_add_1 -->\n",
       "<g id=\"edge9\" class=\"edge\">\n",
       "<title>cluster_Accumulator_io_in&#45;&gt;op_add_1:in2</title>\n",
       "<path fill=\"none\" stroke=\"black\" d=\"M418.72,-121.16C429.08,-126.22 441.49,-130.99 453.99,-132.78\"/>\n",
       "<polygon fill=\"black\" stroke=\"black\" points=\"453.77,-136.28 464,-133.53 454.29,-129.29 453.77,-136.28\"/>\n",
       "</g>\n",
       "<!-- cluster_Accumulator_io_en -->\n",
       "<g id=\"node4\" class=\"node\">\n",
       "<title>cluster_Accumulator_io_en</title>\n",
       "<polygon fill=\"#cccccc\" stroke=\"black\" points=\"906,-123.53 852,-123.53 852,-87.53 906,-87.53 906,-123.53\"/>\n",
       "<text text-anchor=\"middle\" x=\"879\" y=\"-101.83\" font-family=\"Times,serif\" font-size=\"14.00\">io_en</text>\n",
       "</g>\n",
       "<!-- mux_620385393 -->\n",
       "<g id=\"node12\" class=\"node\">\n",
       "<title>mux_620385393</title>\n",
       "<polygon fill=\"#afeeee\" stroke=\"transparent\" points=\"962,-68.53 962,-118.53 1034,-118.53 1034,-68.53 962,-68.53\"/>\n",
       "<polygon fill=\"none\" stroke=\"black\" points=\"962,-93.53 962,-118.53 985,-118.53 985,-93.53 962,-93.53\"/>\n",
       "<text text-anchor=\"start\" x=\"967\" y=\"-102.33\" font-family=\"Times,serif\" font-size=\"14.00\">●</text>\n",
       "<polygon fill=\"none\" stroke=\"black\" points=\"985,-68.53 985,-118.53 1011,-118.53 1011,-68.53 985,-68.53\"/>\n",
       "<text text-anchor=\"start\" x=\"990\" y=\"-89.83\" font-family=\"Times,serif\" font-size=\"14.00\">a?</text>\n",
       "<polygon fill=\"none\" stroke=\"black\" points=\"1011,-68.53 1011,-118.53 1034,-118.53 1034,-68.53 1011,-68.53\"/>\n",
       "<text text-anchor=\"start\" x=\"1016\" y=\"-89.83\" font-family=\"Times,serif\" font-size=\"14.00\">●</text>\n",
       "<polygon fill=\"none\" stroke=\"black\" points=\"962,-68.53 962,-93.53 985,-93.53 985,-68.53 962,-68.53\"/>\n",
       "<text text-anchor=\"start\" x=\"967\" y=\"-77.33\" font-family=\"Times,serif\" font-size=\"14.00\">●</text>\n",
       "</g>\n",
       "<!-- cluster_Accumulator_io_en&#45;&gt;mux_620385393 -->\n",
       "<g id=\"edge4\" class=\"edge\">\n",
       "<title>cluster_Accumulator_io_en&#45;&gt;mux_620385393:select</title>\n",
       "<path fill=\"none\" stroke=\"black\" d=\"M906.19,-118.86C937.15,-133.35 985.79,-151.69 996.06,-129.58\"/>\n",
       "<polygon fill=\"black\" stroke=\"black\" points=\"999.54,-130.01 998,-119.53 992.67,-128.68 999.54,-130.01\"/>\n",
       "</g>\n",
       "<!-- cluster_Accumulator_io_out -->\n",
       "<g id=\"node5\" class=\"node\">\n",
       "<title>cluster_Accumulator_io_out</title>\n",
       "<polygon fill=\"#e0ffff\" stroke=\"black\" points=\"421,-177.53 362,-177.53 362,-141.53 421,-141.53 421,-177.53\"/>\n",
       "<text text-anchor=\"middle\" x=\"391.5\" y=\"-155.83\" font-family=\"Times,serif\" font-size=\"14.00\">io_out</text>\n",
       "</g>\n",
       "<!-- cluster_Accumulator_io_out&#45;&gt;op_add_1 -->\n",
       "<g id=\"edge7\" class=\"edge\">\n",
       "<title>cluster_Accumulator_io_out&#45;&gt;op_add_1:in1</title>\n",
       "<path fill=\"none\" stroke=\"black\" d=\"M421.03,-159.53C431.05,-159.53 442.62,-159.53 453.84,-159.53\"/>\n",
       "<polygon fill=\"black\" stroke=\"black\" points=\"454,-163.03 464,-159.53 454,-156.03 454,-163.03\"/>\n",
       "</g>\n",
       "<!-- cluster_Accumulator__acc_T -->\n",
       "<g id=\"node6\" class=\"node\">\n",
       "<title>cluster_Accumulator__acc_T</title>\n",
       "<polygon fill=\"none\" stroke=\"black\" points=\"663,-170.53 601,-170.53 601,-134.53 663,-134.53 663,-170.53\"/>\n",
       "<text text-anchor=\"middle\" x=\"632\" y=\"-148.83\" font-family=\"Times,serif\" font-size=\"14.00\">_acc_T</text>\n",
       "</g>\n",
       "<!-- op_tail_2 -->\n",
       "<g id=\"node9\" class=\"node\">\n",
       "<title>op_tail_2</title>\n",
       "<polygon fill=\"#d8bfd8\" stroke=\"transparent\" points=\"707,-118.53 707,-168.53 796,-168.53 796,-118.53 707,-118.53\"/>\n",
       "<polygon fill=\"none\" stroke=\"black\" points=\"707.5,-143.53 707.5,-168.53 730.5,-168.53 730.5,-143.53 707.5,-143.53\"/>\n",
       "<text text-anchor=\"start\" x=\"712.5\" y=\"-152.33\" font-family=\"Times,serif\" font-size=\"14.00\">●</text>\n",
       "<polygon fill=\"none\" stroke=\"black\" points=\"730.5,-118.53 730.5,-168.53 773.5,-168.53 773.5,-118.53 730.5,-118.53\"/>\n",
       "<text text-anchor=\"start\" x=\"735.5\" y=\"-139.83\" font-family=\"Times,serif\" font-size=\"14.00\"> tail </text>\n",
       "<polygon fill=\"none\" stroke=\"black\" points=\"773.5,-118.53 773.5,-168.53 796.5,-168.53 796.5,-118.53 773.5,-118.53\"/>\n",
       "<text text-anchor=\"start\" x=\"778.5\" y=\"-139.83\" font-family=\"Times,serif\" font-size=\"14.00\">●</text>\n",
       "<polygon fill=\"none\" stroke=\"black\" points=\"707.5,-118.53 707.5,-143.53 730.5,-143.53 730.5,-118.53 707.5,-118.53\"/>\n",
       "<text text-anchor=\"start\" x=\"714\" y=\"-127.33\" font-family=\"Times,serif\" font-size=\"14.00\">1</text>\n",
       "</g>\n",
       "<!-- cluster_Accumulator__acc_T&#45;&gt;op_tail_2 -->\n",
       "<g id=\"edge1\" class=\"edge\">\n",
       "<title>cluster_Accumulator__acc_T&#45;&gt;op_tail_2:in1</title>\n",
       "<path fill=\"none\" stroke=\"black\" d=\"M663.02,-154.9C673.21,-155.56 684.89,-156.16 696.23,-156.41\"/>\n",
       "<polygon fill=\"black\" stroke=\"black\" points=\"696.46,-159.91 706.5,-156.53 696.54,-152.91 696.46,-159.91\"/>\n",
       "</g>\n",
       "<!-- op_add_1&#45;&gt;cluster_Accumulator__acc_T -->\n",
       "<g id=\"edge11\" class=\"edge\">\n",
       "<title>op_add_1:out&#45;&gt;cluster_Accumulator__acc_T</title>\n",
       "<path fill=\"none\" stroke=\"black\" d=\"M558,-146.53C568.59,-146.53 580.01,-147.16 590.6,-148.02\"/>\n",
       "<polygon fill=\"black\" stroke=\"black\" points=\"590.58,-151.53 600.86,-148.93 591.21,-144.56 590.58,-151.53\"/>\n",
       "</g>\n",
       "<!-- cluster_Accumulator__acc_T_1 -->\n",
       "<g id=\"node8\" class=\"node\">\n",
       "<title>cluster_Accumulator__acc_T_1</title>\n",
       "<polygon fill=\"none\" stroke=\"black\" points=\"918,-177.53 840,-177.53 840,-141.53 918,-141.53 918,-177.53\"/>\n",
       "<text text-anchor=\"middle\" x=\"879\" y=\"-155.83\" font-family=\"Times,serif\" font-size=\"14.00\">_acc_T_1</text>\n",
       "</g>\n",
       "<!-- cluster_Accumulator__acc_T_1&#45;&gt;mux_620385393 -->\n",
       "<g id=\"edge8\" class=\"edge\">\n",
       "<title>cluster_Accumulator__acc_T_1&#45;&gt;mux_620385393:in1</title>\n",
       "<path fill=\"none\" stroke=\"black\" d=\"M906.36,-141.29C921.92,-130.63 940.68,-117.98 951.77,-111.27\"/>\n",
       "<polygon fill=\"black\" stroke=\"black\" points=\"953.71,-114.21 961,-106.53 950.51,-107.98 953.71,-114.21\"/>\n",
       "</g>\n",
       "<!-- op_tail_2&#45;&gt;cluster_Accumulator__acc_T_1 -->\n",
       "<g id=\"edge2\" class=\"edge\">\n",
       "<title>op_tail_2:out&#45;&gt;cluster_Accumulator__acc_T_1</title>\n",
       "<path fill=\"none\" stroke=\"black\" d=\"M797.5,-143.53C808.08,-143.53 819.3,-144.87 829.89,-146.78\"/>\n",
       "<polygon fill=\"black\" stroke=\"black\" points=\"829.32,-150.24 839.82,-148.76 830.69,-143.37 829.32,-150.24\"/>\n",
       "</g>\n",
       "<!-- struct_cluster_Accumulator_acc -->\n",
       "<g id=\"node10\" class=\"node\">\n",
       "<title>struct_cluster_Accumulator_acc</title>\n",
       "<polygon fill=\"#ffe4b5\" stroke=\"transparent\" points=\"238,-73.03 238,-98.03 318,-98.03 318,-73.03 238,-73.03\"/>\n",
       "<polygon fill=\"none\" stroke=\"black\" points=\"238,-72.53 238,-97.53 261,-97.53 261,-72.53 238,-72.53\"/>\n",
       "<text text-anchor=\"start\" x=\"243\" y=\"-81.33\" font-family=\"Times,serif\" font-size=\"14.00\">●</text>\n",
       "<polygon fill=\"none\" stroke=\"black\" points=\"261,-72.53 261,-97.53 295,-97.53 295,-72.53 261,-72.53\"/>\n",
       "<text text-anchor=\"start\" x=\"266\" y=\"-81.33\" font-family=\"Times,serif\" font-size=\"14.00\">acc</text>\n",
       "<polygon fill=\"none\" stroke=\"black\" points=\"295,-72.53 295,-97.53 318,-97.53 318,-72.53 295,-72.53\"/>\n",
       "<text text-anchor=\"start\" x=\"300\" y=\"-81.33\" font-family=\"Times,serif\" font-size=\"14.00\">●</text>\n",
       "</g>\n",
       "<!-- struct_cluster_Accumulator_acc&#45;&gt;cluster_Accumulator_io_out -->\n",
       "<g id=\"edge5\" class=\"edge\">\n",
       "<title>struct_cluster_Accumulator_acc:out&#45;&gt;cluster_Accumulator_io_out</title>\n",
       "<path fill=\"none\" stroke=\"black\" d=\"M319,-84.53C347.64,-84.53 342.03,-111.99 362,-132.53 362.53,-133.07 363.08,-133.63 363.63,-134.18\"/>\n",
       "<polygon fill=\"black\" stroke=\"black\" points=\"361.4,-136.9 370.98,-141.43 366.32,-131.92 361.4,-136.9\"/>\n",
       "</g>\n",
       "<!-- struct_cluster_Accumulator_acc&#45;&gt;mux_620385393 -->\n",
       "<g id=\"edge6\" class=\"edge\">\n",
       "<title>struct_cluster_Accumulator_acc:out&#45;&gt;mux_620385393:in2</title>\n",
       "<path fill=\"none\" stroke=\"black\" d=\"M319,-84.53C338.3,-84.53 342.81,-80.51 362,-78.53 427.58,-71.74 444.07,-68.53 510,-68.53 510,-68.53 510,-68.53 752.5,-68.53 773.48,-68.53 908.04,-78.34 950.76,-80.22\"/>\n",
       "<polygon fill=\"black\" stroke=\"black\" points=\"950.9,-83.72 961,-80.53 951.11,-76.73 950.9,-83.72\"/>\n",
       "</g>\n",
       "<!-- mux_1160241772&#45;&gt;struct_cluster_Accumulator_acc -->\n",
       "<g id=\"edge12\" class=\"edge\">\n",
       "<title>mux_1160241772:out&#45;&gt;struct_cluster_Accumulator_acc:in</title>\n",
       "<path fill=\"none\" stroke=\"black\" d=\"M187,-80.53C205.46,-80.53 212.35,-83.27 226.83,-84.21\"/>\n",
       "<polygon fill=\"black\" stroke=\"black\" points=\"226.9,-87.71 237,-84.53 227.11,-80.72 226.9,-87.71\"/>\n",
       "</g>\n",
       "<!-- mux_620385393&#45;&gt;mux_1160241772 -->\n",
       "<g id=\"edge3\" class=\"edge\">\n",
       "<title>mux_620385393:out&#45;&gt;mux_1160241772:in2</title>\n",
       "<path fill=\"none\" stroke=\"black\" d=\"M1023,-67.53C1023,52.99 873.02,-48.53 752.5,-48.53 390.5,-48.53 390.5,-48.53 390.5,-48.53 276.04,-48.53 133.9,56.82 125.4,-44.43\"/>\n",
       "<polygon fill=\"black\" stroke=\"black\" points=\"121.9,-44.39 125,-54.53 128.89,-44.67 121.9,-44.39\"/>\n",
       "</g>\n",
       "</g>\n",
       "</svg>\n",
       "</div>"
      ]
     },
     "metadata": {},
     "output_type": "display_data"
    }
   ],
   "source": [
    "visualize(()=> new Accumulator(4))"
   ]
  },
  {
   "cell_type": "code",
   "execution_count": 7,
   "id": "trained-tuition",
   "metadata": {
    "deletable": false,
    "editable": false,
    "nbgrader": {
     "cell_type": "code",
     "checksum": "9ca74ffa35a947b0de69c0ef001131d0",
     "grade": true,
     "grade_id": "test-accumulator",
     "locked": true,
     "points": 3,
     "schema_version": 3,
     "solution": false,
     "task": false
    }
   },
   "outputs": [
    {
     "data": {
      "text/plain": [
       "defined \u001b[32mfunction\u001b[39m \u001b[36mtestAccumulator\u001b[39m"
      ]
     },
     "execution_count": 7,
     "metadata": {},
     "output_type": "execute_result"
    }
   ],
   "source": [
    "def testAccumulator: Boolean = {\n",
    "    test(new Accumulator(4)) { dut =>\n",
    "        // Cycle 0\n",
    "        dut.io.in.poke(0.U)\n",
    "        dut.io.en.poke(0.B)\n",
    "        dut.clock.step(1)\n",
    "        dut.io.out.expect(0.U)\n",
    "\n",
    "        // Cycle 1\n",
    "        dut.io.in.poke(0.U)\n",
    "        dut.io.en.poke(0.B)\n",
    "        dut.clock.step(1)\n",
    "        dut.io.out.expect(0.U)\n",
    "\n",
    "        // Cycle 2\n",
    "        dut.io.in.poke(3.U)\n",
    "        dut.io.en.poke(0.B)\n",
    "        dut.clock.step(1)\n",
    "        dut.io.out.expect(0.U)\n",
    "\n",
    "        // Cycle 3\n",
    "        dut.io.in.poke(3.U)\n",
    "        dut.io.en.poke(1.B)\n",
    "        dut.clock.step(1)\n",
    "        dut.io.out.expect(3.U)\n",
    "\n",
    "        // Cycle 3\n",
    "        dut.io.in.poke(4.U)\n",
    "        dut.io.en.poke(1.B)\n",
    "        dut.clock.step(1)\n",
    "        dut.io.out.expect(7.U)        \n",
    "    }\n",
    "    true\n",
    "}\n",
    "assert(testAccumulator)"
   ]
  },
  {
   "cell_type": "markdown",
   "id": "exposed-combination",
   "metadata": {
    "deletable": false,
    "editable": false,
    "nbgrader": {
     "cell_type": "markdown",
     "checksum": "de1c5f51f618103e8e519c527afd9c83",
     "grade": false,
     "grade_id": "cell-4310bf1dd699ea36",
     "locked": true,
     "schema_version": 3,
     "solution": false,
     "task": false
    }
   },
   "source": [
    "## Problem 3 (4 pts) - Scala Loops\n",
    "> To familiarize ourselves with looping in Scala, we will attempt a variant of the game [_Fizz buzz_](https://en.wikipedia.org/wiki/Fizz_buzz):\n",
    "\n",
    "* _*Count*_ from 1 until `max` (exclusive)\n",
    "* Maintain three sums: `fizz`, `buzz`, and `fizzbuzz`\n",
    "* If the current count is divisible by ...\n",
    "    * _15_ $\\rightarrow$ add count to `fizzbuzz`\n",
    "    * _5_ $\\rightarrow$ add count to `buzz`\n",
    "    * _3_ $\\rightarrow$ add count to `fizz`\n",
    "    * Add to the sums with the precedence rules given, so for example, if the count is _15_, only add to `fizzbuzz`."
   ]
  },
  {
   "cell_type": "code",
   "execution_count": 8,
   "id": "coupled-personal",
   "metadata": {
    "deletable": false,
    "nbgrader": {
     "cell_type": "code",
     "checksum": "42cd82189dad27ed01672b7977fbac52",
     "grade": false,
     "grade_id": "fizzbuzz",
     "locked": false,
     "schema_version": 3,
     "solution": true,
     "task": false
    }
   },
   "outputs": [
    {
     "data": {
      "text/plain": [
       "defined \u001b[32mfunction\u001b[39m \u001b[36mfizzbuzz\u001b[39m\n",
       "\u001b[36mres7_1\u001b[39m: (\u001b[32mInt\u001b[39m, \u001b[32mInt\u001b[39m, \u001b[32mInt\u001b[39m) = (\u001b[32m48\u001b[39m, \u001b[32m15\u001b[39m, \u001b[32m15\u001b[39m)"
      ]
     },
     "execution_count": 8,
     "metadata": {},
     "output_type": "execute_result"
    }
   ],
   "source": [
    "def fizzbuzz(max: Int): (Int, Int, Int) = {\n",
    "    var (fizz, buzz, fizzbuzz) = (0, 0, 0)\n",
    "\n",
    "    // YOUR CODE HERE\n",
    "    for (i <- 1 until max){\n",
    "        if (i%15==0){\n",
    "            fizzbuzz+=i\n",
    "        }\n",
    "        else if (i%5==0){\n",
    "            buzz+=i\n",
    "        }\n",
    "        else if (i%3==0){\n",
    "            fizz+=i\n",
    "        }\n",
    "    }\n",
    "    (fizz,buzz,fizzbuzz)\n",
    "}\n",
    "\n",
    "fizzbuzz(20)"
   ]
  },
  {
   "cell_type": "code",
   "execution_count": 9,
   "id": "celtic-statistics",
   "metadata": {
    "deletable": false,
    "editable": false,
    "nbgrader": {
     "cell_type": "code",
     "checksum": "9eb20fe315e887c98c9c0d5d8b17ff51",
     "grade": true,
     "grade_id": "testfizzbuzz",
     "locked": true,
     "points": 4,
     "schema_version": 3,
     "solution": false,
     "task": false
    }
   },
   "outputs": [],
   "source": [
    "assert(fizzbuzz(2) == (0, 0, 0))\n",
    "assert(fizzbuzz(20) == (48, 15, 15))\n",
    "assert(fizzbuzz(35) == (153, 60, 45))\n"
   ]
  },
  {
   "cell_type": "markdown",
   "id": "announced-triangle",
   "metadata": {
    "deletable": false,
    "editable": false,
    "nbgrader": {
     "cell_type": "markdown",
     "checksum": "b01d682c5a42855b41635303e9971ffc",
     "grade": false,
     "grade_id": "chiselvec-header",
     "locked": true,
     "schema_version": 3,
     "solution": false,
     "task": false
    }
   },
   "source": [
    "## Problem 4 (3 pts) - Using a Vec to Implement a Lookup Table\n",
    "> Vecs allow us to dynamically index into a Chisel collection during operation in the generated hardware.\n",
    "\n",
    "> In the problem, we use a Vec to implement a _lookup table_, which is a read-only memory (ROM) that holds precomputed results. The `SquareTable` module we provide below produces the result of squaring its input. However, the generated hardware contains only the lookup table because the multiplication is done at generation time. As a first implementation, we hardcode the IO widths and table size.\n",
    "\n",
    "> Fill in the tester `testSquareTable` to exhaustively test all of `SquareTable`'s inputs (hint: there are 32)."
   ]
  },
  {
   "cell_type": "code",
   "execution_count": 10,
   "id": "random-marijuana",
   "metadata": {
    "deletable": false,
    "editable": false,
    "nbgrader": {
     "cell_type": "code",
     "checksum": "28ca7fe070b10993fa85049d8ad2744c",
     "grade": false,
     "grade_id": "ROM",
     "locked": true,
     "schema_version": 3,
     "solution": false,
     "task": false
    }
   },
   "outputs": [
    {
     "data": {
      "text/plain": [
       "defined \u001b[32mclass\u001b[39m \u001b[36mSquareTable\u001b[39m"
      ]
     },
     "execution_count": 10,
     "metadata": {},
     "output_type": "execute_result"
    }
   ],
   "source": [
    "class SquareTable extends Module {\n",
    "    val io = IO(new Bundle {\n",
    "        val x = Input(UInt(5.W))\n",
    "        val xSquared = Output(UInt(10.W))\n",
    "    })\n",
    "    // 输入的范围为 0.U, 1.U, ..., 31.U\n",
    "    val romData = Seq.tabulate(32)(i => (i*i).U(10.W))\n",
    "    show(s\"romData: $romData\")\n",
    "\n",
    "    val ROM: Vec[UInt] = VecInit(romData)\n",
    "    io.xSquared := ROM(io.x)\n",
    "}"
   ]
  },
  {
   "cell_type": "code",
   "execution_count": 11,
   "id": "based-aggregate",
   "metadata": {
    "deletable": false,
    "nbgrader": {
     "cell_type": "code",
     "checksum": "75715438818a3b598c1d7f42497b05dd",
     "grade": false,
     "grade_id": "testROM",
     "locked": false,
     "schema_version": 3,
     "solution": true,
     "task": false
    }
   },
   "outputs": [
    {
     "data": {
      "text/plain": [
       "defined \u001b[32mfunction\u001b[39m \u001b[36mtestSquareTable\u001b[39m"
      ]
     },
     "execution_count": 11,
     "metadata": {},
     "output_type": "execute_result"
    }
   ],
   "source": [
    "def testSquareTable: Boolean = {\n",
    "    test(new SquareTable) { dut =>\n",
    "        \n",
    "        // YOUR CODE HERE\n",
    "        for (i<- 0 until 32){\n",
    "            dut.io.x.poke(i.U(5.W))\n",
    "            dut.io.xSquared.expect((i*i).U(10.W))\n",
    "            dut.clock.step()\n",
    "        }\n",
    "    }\n",
    "    true\n",
    "}"
   ]
  },
  {
   "cell_type": "code",
   "execution_count": 12,
   "id": "czech-payday",
   "metadata": {
    "deletable": false,
    "editable": false,
    "nbgrader": {
     "cell_type": "code",
     "checksum": "de9968b4e7f062892ebd28ae6a534be6",
     "grade": true,
     "grade_id": "test-testROM",
     "locked": true,
     "points": 3,
     "schema_version": 3,
     "solution": false,
     "task": false
    }
   },
   "outputs": [
    {
     "name": "stdout",
     "output_type": "stream",
     "text": [
      "\u001b[32m\"romData: List(UInt<10>(0), UInt<10>(1), UInt<10>(4), UInt<10>(9), UInt<10>(16), UInt<10>(25), UInt<10>(36), UInt<10>(49), UInt<10>(64), UInt<10>(81), UInt<10>(100), UInt<10>(121), UInt<10>(144), UInt<10>(169), UInt<10>(196), UInt<10>(225), UInt<10>(256), UInt<10>(289), UInt<10>(324), UInt<10>(361), UInt<10>(400), UInt<10>(441), UInt<10>(484), UInt<10>(529), UInt<10>(576), UInt<10>(625), UInt<10>(676), UInt<10>(729), UInt<10>(784), UInt<10>(841), UInt<10>(900), UInt<10>(961))\"\u001b[39m\n"
     ]
    }
   ],
   "source": [
    "assert(testSquareTable)"
   ]
  },
  {
   "cell_type": "markdown",
   "id": "designed-stevens",
   "metadata": {
    "deletable": false,
    "editable": false,
    "nbgrader": {
     "cell_type": "markdown",
     "checksum": "3bff608cf0108fe2bd757b08c5c9f4ed",
     "grade": false,
     "grade_id": "chiselvec2-header",
     "locked": true,
     "schema_version": 3,
     "solution": false,
     "task": false
    }
   },
   "source": [
    "## Problem 5 (5 pts) - Parameterizing SquareTable\n",
    "In this problem, we will revise the module `SquareTable` from the previous problem to make the number of entries parameterized. First, ensure your tester `testSquareTable` is complete and correct first because it will help you with this problem too. Write a `SquareTable2` module below that takes a Scala Int `nEntries` as a parameter. `SquareTable2` will generate a lookup table (read-only UInts stored as a `Vec`) of nEntries entries. The output `xSquared` should be the result of squaring the input `x`. The table will support inputs from 0 to nEntries-1 (inclusive). Ensure the widths are correct, namely that x is wide enough to handle all inputs (hint: consider log2Ceil), and xSquared is sufficiently wide to not loose any data. `SquareTable2` behaves the same as `SquareTable`, except its size is a configurable parameter. You will also need to revise your tester (create `testSquareTable2`) so it is parameterized too."
   ]
  },
  {
   "cell_type": "code",
   "execution_count": 13,
   "id": "occasional-generic",
   "metadata": {
    "deletable": false,
    "nbgrader": {
     "cell_type": "code",
     "checksum": "e590d7da3f90a4b47be66c70621f8dda",
     "grade": false,
     "grade_id": "Rom2",
     "locked": false,
     "schema_version": 3,
     "solution": true,
     "task": false
    }
   },
   "outputs": [
    {
     "data": {
      "text/plain": [
       "defined \u001b[32mclass\u001b[39m \u001b[36mSquareTable2\u001b[39m"
      ]
     },
     "execution_count": 13,
     "metadata": {},
     "output_type": "execute_result"
    }
   ],
   "source": [
    "// YOUR CODE HERE\n",
    "class SquareTable2(nEntries:Int) extends Module{\n",
    "    val io = IO(new Bundle{\n",
    "        val x=Input(UInt(log2Ceil(nEntries+1).W))\n",
    "        val xSquared=Output(UInt((2*log2Ceil(nEntries+1)).W))\n",
    "    })\n",
    "\n",
    "    val romData = Seq.tabulate(nEntries)(i => (i*i).U((2*log2Ceil(nEntries+1)).W))\n",
    "    show(s\"romData: $romData\\n\")\n",
    "    \n",
    "    val ROM: Vec[UInt] = VecInit(romData)\n",
    "    io.xSquared:=ROM(io.x)\n",
    "}"
   ]
  },
  {
   "cell_type": "code",
   "execution_count": 14,
   "id": "recorded-caribbean",
   "metadata": {
    "deletable": false,
    "nbgrader": {
     "cell_type": "code",
     "checksum": "60c4afa0dfba3ad4f48943cd110a8aef",
     "grade": false,
     "grade_id": "testRom2",
     "locked": false,
     "schema_version": 3,
     "solution": true,
     "task": false
    }
   },
   "outputs": [
    {
     "data": {
      "text/plain": [
       "defined \u001b[32mfunction\u001b[39m \u001b[36mtestSquareTable2\u001b[39m"
      ]
     },
     "execution_count": 14,
     "metadata": {},
     "output_type": "execute_result"
    }
   ],
   "source": [
    "def testSquareTable2: Boolean = {\n",
    "    for (nEntries <- Seq(4, 5, 10, 30)) {\n",
    "        test(new SquareTable2(nEntries)) { dut =>\n",
    "\n",
    "            // YOUR CODE HERE\n",
    "            for (i<- 0 until nEntries){\n",
    "                dut.io.x.poke(i)\n",
    "                dut.io.xSquared.expect(i*i)\n",
    "            }\n",
    "        }\n",
    "    }\n",
    "    true\n",
    "}"
   ]
  },
  {
   "cell_type": "code",
   "execution_count": 15,
   "id": "dried-problem",
   "metadata": {
    "deletable": false,
    "editable": false,
    "nbgrader": {
     "cell_type": "code",
     "checksum": "e019d97a4c30465af9e67ad55ea191c1",
     "grade": true,
     "grade_id": "test-testRom2",
     "locked": true,
     "points": 5,
     "schema_version": 3,
     "solution": false,
     "task": false
    }
   },
   "outputs": [
    {
     "name": "stdout",
     "output_type": "stream",
     "text": [
      "\u001b[32m\"\"\"romData: List(UInt<6>(0), UInt<6>(1), UInt<6>(4), UInt<6>(9))\n",
      "\"\"\"\u001b[39m\n",
      "\u001b[32m\"\"\"romData: List(UInt<6>(0), UInt<6>(1), UInt<6>(4), UInt<6>(9), UInt<6>(16))\n",
      "\"\"\"\u001b[39m\n",
      "\u001b[32m\"\"\"romData: List(UInt<8>(0), UInt<8>(1), UInt<8>(4), UInt<8>(9), UInt<8>(16), UInt<8>(25), UInt<8>(36), UInt<8>(49), UInt<8>(64), UInt<8>(81))\n",
      "\"\"\"\u001b[39m\n",
      "\u001b[32m\"\"\"romData: List(UInt<10>(0), UInt<10>(1), UInt<10>(4), UInt<10>(9), UInt<10>(16), UInt<10>(25), UInt<10>(36), UInt<10>(49), UInt<10>(64), UInt<10>(81), UInt<10>(100), UInt<10>(121), UInt<10>(144), UInt<10>(169), UInt<10>(196), UInt<10>(225), UInt<10>(256), UInt<10>(289), UInt<10>(324), UInt<10>(361), UInt<10>(400), UInt<10>(441), UInt<10>(484), UInt<10>(529), UInt<10>(576), UInt<10>(625), UInt<10>(676), UInt<10>(729), UInt<10>(784), UInt<10>(841))\n",
      "\"\"\"\u001b[39m\n"
     ]
    }
   ],
   "source": [
    "assert(testSquareTable2)\n"
   ]
  },
  {
   "cell_type": "markdown",
   "id": "whole-outside",
   "metadata": {
    "deletable": false,
    "editable": false,
    "nbgrader": {
     "cell_type": "markdown",
     "checksum": "ef4decaa41cf83e2bf24348747bd69ab",
     "grade": false,
     "grade_id": "scalafunc-header",
     "locked": true,
     "schema_version": 3,
     "solution": false,
     "task": false
    }
   },
   "source": [
    "## Problem 6 (2 pts) - Scala functions\n",
    "> We can write Chisel logic within a Scala function and use them within our modules.\n",
    "\n",
    "> Write a Scala function named `sum` that takes two UInts as arguments and returns the sum (with width growth). You might find the [Chisel Cheat Sheet](https://github.com/freechipsproject/chisel-cheatsheet/releases/latest/download/chisel_cheatsheet.pdf) a helpful reference."
   ]
  },
  {
   "cell_type": "code",
   "execution_count": 16,
   "id": "alike-contribution",
   "metadata": {
    "deletable": false,
    "nbgrader": {
     "cell_type": "code",
     "checksum": "6c992528fce61fcdf10291ca6b6592af",
     "grade": false,
     "grade_id": "ScalaCondPractice",
     "locked": false,
     "schema_version": 3,
     "solution": true,
     "task": false
    }
   },
   "outputs": [
    {
     "data": {
      "text/plain": [
       "defined \u001b[32mfunction\u001b[39m \u001b[36msum\u001b[39m"
      ]
     },
     "execution_count": 16,
     "metadata": {},
     "output_type": "execute_result"
    }
   ],
   "source": [
    "// YOUR CODE HERE\n",
    "def sum(a:UInt,b:UInt): UInt={\n",
    "    a+&b\n",
    "}"
   ]
  },
  {
   "cell_type": "code",
   "execution_count": 17,
   "id": "liquid-monster",
   "metadata": {
    "deletable": false,
    "editable": false,
    "nbgrader": {
     "cell_type": "code",
     "checksum": "b95cc90c550f2ca608e9769af5fc9471",
     "grade": true,
     "grade_id": "testSum",
     "locked": true,
     "points": 2,
     "schema_version": 3,
     "solution": false,
     "task": false
    }
   },
   "outputs": [
    {
     "data": {
      "text/plain": [
       "defined \u001b[32mfunction\u001b[39m \u001b[36mtestSum\u001b[39m"
      ]
     },
     "execution_count": 17,
     "metadata": {},
     "output_type": "execute_result"
    }
   ],
   "source": [
    "def testSum(): Boolean = {\n",
    "    test(new Module {\n",
    "            val io = IO(new Bundle {\n",
    "                val in1 = Input(UInt(4.W))\n",
    "                val in2 = Input(UInt(4.W))\n",
    "                val out = Output(UInt())\n",
    "            })\n",
    "            io.out := sum(io.in1, io.in2)\n",
    "        }) { dut => \n",
    "            for (in1 <- 0 until 16) {\n",
    "                for (in2 <- 0 until 16) {\n",
    "                    dut.io.in1.poke(in1.U)\n",
    "                    dut.io.in2.poke(in2.U)\n",
    "                    dut.io.out.expect((in1 + in2).U)\n",
    "                }\n",
    "            }\n",
    "    }\n",
    "    true\n",
    "}\n",
    "\n",
    "assert(testSum)"
   ]
  },
  {
   "cell_type": "markdown",
   "id": "lesbian-corner",
   "metadata": {
    "deletable": false,
    "editable": false,
    "nbgrader": {
     "cell_type": "markdown",
     "checksum": "512808e707558299cef53ca6e431030b",
     "grade": false,
     "grade_id": "histo-header",
     "locked": true,
     "schema_version": 3,
     "solution": false,
     "task": false
    }
   },
   "source": [
    "## Problem 7 (6 pts) - Histogram\n",
    "Let's put Regs and Vecs together to build a `Histogram` generator. The generated hardware will count how often it sees each input. It will take a parameter `n`, and internally it will use `n` registers to count how often it has seen inputs (from 0 to n-1). Each cycle, the `x` input chooses which internal register to increment. The `out` output should provide the new total value that will be written into the register the next cycle. In other words, `out` immediately shows new value of the count associated with `x`."
   ]
  },
  {
   "cell_type": "code",
   "execution_count": 33,
   "id": "stuffed-fighter",
   "metadata": {
    "deletable": false,
    "nbgrader": {
     "cell_type": "code",
     "checksum": "7658b82bd0c394a3b6643c9c6b8b4692",
     "grade": false,
     "grade_id": "Histogram",
     "locked": false,
     "schema_version": 3,
     "solution": true,
     "task": false
    }
   },
   "outputs": [
    {
     "name": "stdout",
     "output_type": "stream",
     "text": [
      "module Histogram(\n",
      "  input        clock,\n",
      "  input        reset,\n",
      "  input  [1:0] io_x,\n",
      "  output [4:0] io_out\n",
      ");\n",
      "  reg [4:0] memory_0;\n",
      "  reg [4:0] memory_1;\n",
      "  reg [4:0] memory_2;\n",
      "  wire [4:0] _GEN_1 = 2'h1 == io_x ? memory_1 : memory_0;\n",
      "  wire [4:0] _GEN_2 = 2'h2 == io_x ? memory_2 : _GEN_1;\n",
      "  wire [4:0] _memory_T_1 = 5'h1 + _GEN_2;\n",
      "  assign io_out = 5'h1 + _GEN_2;\n",
      "  always @(posedge clock) begin\n",
      "    if (reset) begin\n",
      "      memory_0 <= 5'h0;\n",
      "    end else if (2'h0 == io_x) begin\n",
      "      memory_0 <= _memory_T_1;\n",
      "    end\n",
      "    if (reset) begin\n",
      "      memory_1 <= 5'h0;\n",
      "    end else if (2'h1 == io_x) begin\n",
      "      memory_1 <= _memory_T_1;\n",
      "    end\n",
      "    if (reset) begin\n",
      "      memory_2 <= 5'h0;\n",
      "    end else if (2'h2 == io_x) begin\n",
      "      memory_2 <= _memory_T_1;\n",
      "    end\n",
      "  end\n",
      "endmodule\n"
     ]
    },
    {
     "data": {
      "text/plain": [
       "defined \u001b[32mclass\u001b[39m \u001b[36mHistogram\u001b[39m"
      ]
     },
     "execution_count": 33,
     "metadata": {},
     "output_type": "execute_result"
    }
   ],
   "source": [
    "class Histogram(n: Int) extends Module {\n",
    "    val io = IO(new Bundle {\n",
    "        val x = Input(UInt(log2Ceil(n).W))\n",
    "        val out = Output(UInt(5.W))\n",
    "    })\n",
    "    val sequence = Seq.fill(n)(0.U(5.W))\n",
    "    val memory = RegInit(VecInit(sequence))\n",
    "    memory(io.x):= 1.U+memory(io.x)\n",
    "    io.out := 1.U+memory(io.x)\n",
    "    printf(\"现在 out 的值为%d\\n\",io.out)\n",
    "    printf(\"现在 memory(0) 的值为%d\\n\",memory(0))\n",
    "    \n",
    "}\n",
    "printVerilog(new Histogram(3))"
   ]
  },
  {
   "cell_type": "code",
   "execution_count": 34,
   "id": "center-ceiling",
   "metadata": {
    "deletable": false,
    "editable": false,
    "nbgrader": {
     "cell_type": "code",
     "checksum": "4f5f07b81bbe8ca0034ed7b8d03602a2",
     "grade": true,
     "grade_id": "test-histogram",
     "locked": true,
     "points": 6,
     "schema_version": 3,
     "solution": false,
     "task": false
    }
   },
   "outputs": [
    {
     "data": {
      "text/plain": [
       "defined \u001b[32mfunction\u001b[39m \u001b[36mtestHistogram\u001b[39m"
      ]
     },
     "execution_count": 34,
     "metadata": {},
     "output_type": "execute_result"
    }
   ],
   "source": [
    "def testHistogram: Boolean = {\n",
    "    test(new Histogram(3)) { dut =>\n",
    "        // Cycle0\n",
    "        dut.io.x.poke(1.U)\n",
    "        dut.io.out.expect(1.U)\n",
    "        dut.clock.step(1)\n",
    "\n",
    "        // Cycle1\n",
    "        dut.io.x.poke(1.U)\n",
    "        dut.io.out.expect(2.U)\n",
    "        dut.clock.step(1)\n",
    "\n",
    "        dut.io.x.poke(0.U)\n",
    "        dut.io.out.expect(1.U)\n",
    "        dut.clock.step(1)\n",
    "\n",
    "        // Cycle 3\n",
    "        dut.io.x.poke(2.U)\n",
    "        dut.io.out.expect(1.U)\n",
    "    }\n",
    "    true\n",
    "}\n",
    "assert(testHistogram)"
   ]
  }
 ],
 "metadata": {
  "kernelspec": {
   "display_name": "Scala",
   "language": "scala",
   "name": "scala"
  },
  "language_info": {
   "codemirror_mode": "text/x-scala",
   "file_extension": ".sc",
   "mimetype": "text/x-scala",
   "name": "scala",
   "nbconvert_exporter": "script",
   "version": "2.13.10"
  }
 },
 "nbformat": 4,
 "nbformat_minor": 5
}
